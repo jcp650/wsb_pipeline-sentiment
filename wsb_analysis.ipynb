{
 "cells": [
  {
   "cell_type": "code",
   "execution_count": 1,
   "metadata": {},
   "outputs": [
    {
     "data": {
      "text/html": [
       "        <script type=\"text/javascript\">\n",
       "        window.PlotlyConfig = {MathJaxConfig: 'local'};\n",
       "        if (window.MathJax) {MathJax.Hub.Config({SVG: {font: \"STIX-Web\"}});}\n",
       "        if (typeof require !== 'undefined') {\n",
       "        require.undef(\"plotly\");\n",
       "        requirejs.config({\n",
       "            paths: {\n",
       "                'plotly': ['https://cdn.plot.ly/plotly-latest.min']\n",
       "            }\n",
       "        });\n",
       "        require(['plotly'], function(Plotly) {\n",
       "            window._Plotly = Plotly;\n",
       "        });\n",
       "        }\n",
       "        </script>\n",
       "        "
      ]
     },
     "metadata": {},
     "output_type": "display_data"
    }
   ],
   "source": [
    "# Dependencies\n",
    "import pandas as pd\n",
    "import numpy as np\n",
    "import nltk\n",
    "import matplotlib.pyplot as plt\n",
    "import seaborn as sns\n",
    "color = sns.color_palette()\n",
    "%matplotlib inline\n",
    "import plotly.offline as py\n",
    "py.init_notebook_mode(connected=True)\n",
    "import plotly.graph_objs as go\n",
    "import plotly.tools as tls\n",
    "import plotly.express as px"
   ]
  },
  {
   "cell_type": "code",
   "execution_count": 2,
   "metadata": {},
   "outputs": [
    {
     "data": {
      "text/html": [
       "<div>\n",
       "<style scoped>\n",
       "    .dataframe tbody tr th:only-of-type {\n",
       "        vertical-align: middle;\n",
       "    }\n",
       "\n",
       "    .dataframe tbody tr th {\n",
       "        vertical-align: top;\n",
       "    }\n",
       "\n",
       "    .dataframe thead th {\n",
       "        text-align: right;\n",
       "    }\n",
       "</style>\n",
       "<table border=\"1\" class=\"dataframe\">\n",
       "  <thead>\n",
       "    <tr style=\"text-align: right;\">\n",
       "      <th></th>\n",
       "      <th>title</th>\n",
       "      <th>score</th>\n",
       "      <th>id</th>\n",
       "      <th>url</th>\n",
       "      <th>comms_num</th>\n",
       "      <th>created</th>\n",
       "      <th>body</th>\n",
       "      <th>timestamp</th>\n",
       "    </tr>\n",
       "  </thead>\n",
       "  <tbody>\n",
       "    <tr>\n",
       "      <th>0</th>\n",
       "      <td>Recruiting: retards with good DD skills to go ...</td>\n",
       "      <td>1</td>\n",
       "      <td>s9i9bw</td>\n",
       "      <td>https://www.reddit.com/r/wallstreetbets/commen...</td>\n",
       "      <td>0</td>\n",
       "      <td>1.642792e+09</td>\n",
       "      <td>Hello ladies and gentlemen,\\n\\nYou may have se...</td>\n",
       "      <td>2022-01-21 11:07:47</td>\n",
       "    </tr>\n",
       "    <tr>\n",
       "      <th>1</th>\n",
       "      <td>Bearish on Tesla earnings?</td>\n",
       "      <td>3</td>\n",
       "      <td>s9i754</td>\n",
       "      <td>https://www.reddit.com/gallery/s9i754</td>\n",
       "      <td>5</td>\n",
       "      <td>1.642792e+09</td>\n",
       "      <td>NaN</td>\n",
       "      <td>2022-01-21 11:04:56</td>\n",
       "    </tr>\n",
       "    <tr>\n",
       "      <th>2</th>\n",
       "      <td>$AMRS Stock</td>\n",
       "      <td>1</td>\n",
       "      <td>s9i6tw</td>\n",
       "      <td>https://www.reddit.com/r/wallstreetbets/commen...</td>\n",
       "      <td>0</td>\n",
       "      <td>1.642792e+09</td>\n",
       "      <td>Hello guys, how are:)\\n\\nWhat you think about ...</td>\n",
       "      <td>2022-01-21 11:04:30</td>\n",
       "    </tr>\n",
       "    <tr>\n",
       "      <th>3</th>\n",
       "      <td>&amp; Now A Live Look At The Tendie Man Negotiatin...</td>\n",
       "      <td>1</td>\n",
       "      <td>s9i62o</td>\n",
       "      <td>https://v.redd.it/mma4fm5x93d81</td>\n",
       "      <td>0</td>\n",
       "      <td>1.642792e+09</td>\n",
       "      <td>NaN</td>\n",
       "      <td>2022-01-21 11:03:32</td>\n",
       "    </tr>\n",
       "    <tr>\n",
       "      <th>4</th>\n",
       "      <td>Endgame</td>\n",
       "      <td>3</td>\n",
       "      <td>s9i6cs</td>\n",
       "      <td>https://i.redd.it/pm1rr0f1a3d81.jpg</td>\n",
       "      <td>1</td>\n",
       "      <td>1.642792e+09</td>\n",
       "      <td>NaN</td>\n",
       "      <td>2022-01-21 11:03:54</td>\n",
       "    </tr>\n",
       "  </tbody>\n",
       "</table>\n",
       "</div>"
      ],
      "text/plain": [
       "                                               title  score      id  \\\n",
       "0  Recruiting: retards with good DD skills to go ...      1  s9i9bw   \n",
       "1                         Bearish on Tesla earnings?      3  s9i754   \n",
       "2                                        $AMRS Stock      1  s9i6tw   \n",
       "3  & Now A Live Look At The Tendie Man Negotiatin...      1  s9i62o   \n",
       "4                                            Endgame      3  s9i6cs   \n",
       "\n",
       "                                                 url  comms_num       created  \\\n",
       "0  https://www.reddit.com/r/wallstreetbets/commen...          0  1.642792e+09   \n",
       "1              https://www.reddit.com/gallery/s9i754          5  1.642792e+09   \n",
       "2  https://www.reddit.com/r/wallstreetbets/commen...          0  1.642792e+09   \n",
       "3                    https://v.redd.it/mma4fm5x93d81          0  1.642792e+09   \n",
       "4                https://i.redd.it/pm1rr0f1a3d81.jpg          1  1.642792e+09   \n",
       "\n",
       "                                                body            timestamp  \n",
       "0  Hello ladies and gentlemen,\\n\\nYou may have se...  2022-01-21 11:07:47  \n",
       "1                                                NaN  2022-01-21 11:04:56  \n",
       "2  Hello guys, how are:)\\n\\nWhat you think about ...  2022-01-21 11:04:30  \n",
       "3                                                NaN  2022-01-21 11:03:32  \n",
       "4                                                NaN  2022-01-21 11:03:54  "
      ]
     },
     "execution_count": 2,
     "metadata": {},
     "output_type": "execute_result"
    }
   ],
   "source": [
    "# Get df from extracted csv\n",
    "df = pd.read_csv(\"reddit_wsb.csv\")\n",
    "df.head()"
   ]
  },
  {
   "cell_type": "code",
   "execution_count": 3,
   "metadata": {},
   "outputs": [
    {
     "name": "stdout",
     "output_type": "stream",
     "text": [
      "<class 'pandas.core.frame.DataFrame'>\n",
      "RangeIndex: 1892 entries, 0 to 1891\n",
      "Data columns (total 8 columns):\n",
      " #   Column     Non-Null Count  Dtype  \n",
      "---  ------     --------------  -----  \n",
      " 0   title      1892 non-null   object \n",
      " 1   score      1892 non-null   int64  \n",
      " 2   id         1892 non-null   object \n",
      " 3   url        913 non-null    object \n",
      " 4   comms_num  1892 non-null   int64  \n",
      " 5   created    1892 non-null   float64\n",
      " 6   body       1258 non-null   object \n",
      " 7   timestamp  1892 non-null   object \n",
      "dtypes: float64(1), int64(2), object(5)\n",
      "memory usage: 118.4+ KB\n"
     ]
    }
   ],
   "source": [
    "# get df info\n",
    "df.info()"
   ]
  },
  {
   "cell_type": "code",
   "execution_count": 4,
   "metadata": {},
   "outputs": [
    {
     "data": {
      "text/plain": [
       "title          0\n",
       "score          0\n",
       "id             0\n",
       "url          979\n",
       "comms_num      0\n",
       "created        0\n",
       "body         634\n",
       "timestamp      0\n",
       "dtype: int64"
      ]
     },
     "execution_count": 4,
     "metadata": {},
     "output_type": "execute_result"
    }
   ],
   "source": [
    "# check nulls\n",
    "df.isna().sum()"
   ]
  },
  {
   "cell_type": "code",
   "execution_count": 5,
   "metadata": {},
   "outputs": [
    {
     "data": {
      "text/plain": [
       "title          0\n",
       "score          0\n",
       "id             0\n",
       "url          979\n",
       "comms_num      0\n",
       "created        0\n",
       "body           0\n",
       "timestamp      0\n",
       "dtype: int64"
      ]
     },
     "execution_count": 5,
     "metadata": {},
     "output_type": "execute_result"
    }
   ],
   "source": [
    "# remove nulls in body\n",
    "df = df.dropna(subset=['body'])\n",
    "df.isna().sum()"
   ]
  },
  {
   "cell_type": "code",
   "execution_count": 8,
   "metadata": {},
   "outputs": [
    {
     "data": {
      "application/vnd.plotly.v1+json": {
       "config": {
        "plotlyServerURL": "https://plot.ly"
       },
       "data": [
        {
         "alignmentgroup": "True",
         "bingroup": "x",
         "hovertemplate": "score=%{x}<br>count=%{y}<extra></extra>",
         "legendgroup": "",
         "marker": {
          "color": "turquoise",
          "line": {
           "color": "rgb(8,48,107)",
           "width": 1.5
          }
         },
         "name": "",
         "offsetgroup": "",
         "orientation": "v",
         "showlegend": false,
         "type": "histogram",
         "x": [
          1,
          1,
          1,
          4,
          5,
          0,
          1,
          0,
          0,
          2,
          1,
          1,
          2,
          12,
          57,
          16,
          15,
          45,
          0,
          1,
          0,
          0,
          1,
          11,
          0,
          29,
          5,
          4,
          0,
          9,
          0,
          2,
          11,
          7,
          7,
          113,
          5,
          221,
          21,
          4,
          13,
          26,
          5,
          26,
          297,
          38,
          8,
          10,
          3,
          13,
          8,
          1,
          8,
          14,
          3,
          43,
          8,
          5,
          34,
          0,
          0,
          0,
          13,
          18,
          3900,
          16,
          6,
          0,
          39,
          0,
          0,
          3,
          1,
          21,
          0,
          3,
          0,
          74,
          19,
          4,
          0,
          0,
          19,
          8,
          1,
          0,
          5,
          81,
          9,
          9,
          0,
          0,
          5,
          0,
          13,
          0,
          8,
          18,
          6,
          7,
          5,
          0,
          4,
          41,
          7,
          67,
          8,
          5,
          0,
          13,
          63,
          17,
          0,
          18,
          13,
          64,
          6,
          23,
          2,
          12,
          0,
          15,
          0,
          494,
          1,
          8,
          3,
          1,
          18,
          0,
          10,
          1,
          3,
          7,
          13,
          3,
          2,
          2,
          21,
          10,
          9,
          3,
          5,
          17,
          1,
          10,
          31,
          49,
          2,
          37,
          259,
          6,
          5,
          875,
          22,
          11,
          10,
          298,
          16,
          7,
          3,
          19,
          10,
          12,
          340,
          3,
          0,
          0,
          42,
          321,
          55,
          11,
          4,
          41,
          10,
          247,
          13,
          10,
          0,
          10,
          7,
          22,
          47,
          0,
          8,
          3,
          123,
          34,
          129,
          21,
          17,
          76,
          337,
          17,
          16,
          13,
          21,
          7909,
          9,
          116,
          0,
          183,
          2,
          13,
          2,
          47,
          1,
          2,
          473,
          4,
          3,
          0,
          41,
          4,
          9,
          3,
          0,
          3,
          0,
          5,
          48,
          278,
          13,
          2,
          41,
          24,
          0,
          20,
          20,
          18,
          10,
          36,
          5099,
          12,
          10,
          19,
          15,
          4,
          44,
          51,
          0,
          87,
          23,
          0,
          7,
          75,
          10,
          0,
          4,
          0,
          137,
          2,
          34,
          53,
          0,
          327,
          0,
          78,
          0,
          4,
          0,
          0,
          22,
          0,
          6,
          15,
          1,
          8,
          463,
          12,
          2,
          722,
          0,
          53,
          21,
          0,
          0,
          28,
          1,
          1,
          1,
          1,
          1,
          1,
          1,
          1,
          1,
          1,
          1,
          1,
          1,
          1,
          1,
          1,
          1,
          1,
          1,
          1,
          1,
          1,
          1,
          1,
          1,
          1,
          1,
          1,
          1,
          1,
          0,
          1,
          1,
          1,
          1,
          1,
          1,
          1,
          1,
          2,
          1,
          1,
          1,
          1,
          1,
          2,
          1,
          3,
          1,
          4,
          1,
          1,
          1,
          1,
          1,
          1,
          1,
          1,
          1,
          1,
          0,
          1,
          1,
          1,
          1,
          1,
          1,
          3,
          1,
          1,
          0,
          1,
          5,
          1,
          1,
          2,
          1,
          1,
          1,
          4,
          2,
          1,
          3,
          5,
          1,
          2,
          1,
          1,
          1,
          0,
          1,
          2,
          2,
          1,
          1,
          2,
          1,
          2,
          1,
          1,
          1,
          1,
          1,
          5,
          1,
          1,
          1,
          2,
          1,
          1,
          1,
          1,
          1,
          3,
          2,
          2,
          1,
          1,
          1,
          1,
          12,
          0,
          2,
          1,
          1,
          1,
          -2,
          1,
          2,
          -2,
          1,
          1,
          1,
          5,
          6,
          1,
          1,
          2,
          1,
          3,
          1,
          2,
          4,
          1,
          1,
          0,
          -1,
          -1,
          1,
          1,
          0,
          1,
          1,
          1,
          1,
          4,
          1,
          1,
          1,
          6,
          1,
          1,
          0,
          6,
          1,
          3,
          2,
          2,
          1,
          1,
          3,
          1,
          2,
          0,
          1,
          1,
          3,
          1,
          1,
          2,
          1,
          1,
          1,
          1,
          1,
          1,
          1,
          1,
          4,
          1,
          1,
          1,
          1,
          1,
          1,
          6,
          1,
          1,
          1,
          2,
          0,
          1,
          2,
          1,
          2,
          1,
          1,
          1,
          1,
          1,
          2,
          2,
          1,
          2,
          1,
          1,
          1,
          1,
          2,
          1,
          1,
          0,
          1,
          2,
          1,
          2,
          1,
          1,
          4,
          5,
          1,
          4,
          1,
          4,
          1,
          4,
          1,
          2,
          1,
          1,
          1,
          2,
          1,
          1,
          1,
          1,
          1,
          3,
          1,
          1,
          1,
          7,
          -1,
          2,
          0,
          1,
          3,
          1,
          1,
          1,
          1,
          1,
          1,
          8,
          2,
          1,
          7,
          9,
          1,
          1,
          -2,
          1,
          1,
          2,
          0,
          4,
          1,
          5,
          2,
          3,
          1,
          7,
          1,
          1,
          5,
          3,
          1,
          -2,
          2,
          1,
          5,
          4,
          1,
          1,
          6,
          5,
          1,
          3,
          3,
          3,
          5,
          0,
          1,
          4,
          2,
          1,
          1,
          1,
          7,
          1,
          1,
          1,
          0,
          2,
          1,
          1,
          5,
          1,
          1,
          1,
          1,
          3,
          1,
          1,
          1,
          1,
          1,
          1,
          1,
          1,
          1,
          4,
          3,
          1,
          1,
          -1,
          1,
          1,
          5,
          1,
          2,
          1,
          1,
          1,
          1,
          1,
          5,
          1,
          1,
          3,
          2,
          1,
          1,
          1,
          3,
          1,
          1,
          1,
          1,
          2,
          11,
          1,
          6,
          1,
          4,
          1,
          1,
          1,
          11,
          4,
          3,
          1,
          2,
          1,
          1,
          7,
          1,
          1,
          1,
          1,
          1,
          2,
          5,
          1,
          2,
          1,
          1,
          1,
          1,
          3,
          1,
          4,
          2,
          2,
          1,
          1,
          1,
          1,
          1,
          1,
          1,
          1,
          7,
          5,
          1,
          2,
          1,
          1,
          1,
          1,
          2,
          1,
          6,
          5,
          1,
          1,
          5,
          7,
          4,
          1,
          1,
          1,
          8,
          2,
          1,
          4,
          2,
          1,
          5,
          1,
          1,
          1,
          2,
          0,
          1,
          1,
          1,
          1,
          1,
          1,
          1,
          3,
          1,
          1,
          1,
          7,
          2,
          2,
          0,
          1,
          1,
          2,
          1,
          1,
          1,
          15,
          12,
          13,
          7,
          1,
          2,
          2,
          2,
          1,
          1,
          3,
          1,
          2,
          4,
          1,
          1,
          1,
          1,
          1,
          1,
          1,
          1,
          1,
          3,
          5,
          3,
          1,
          1,
          1,
          2,
          2,
          1,
          4,
          1,
          5,
          -2,
          2,
          1,
          2,
          2,
          1,
          3,
          5,
          2,
          1,
          1,
          4,
          2,
          1,
          1,
          1,
          0,
          1,
          1,
          1,
          1,
          1,
          0,
          1,
          2,
          1,
          6,
          2,
          6,
          1,
          1,
          -1,
          0,
          4,
          2,
          6,
          1,
          1,
          2,
          2,
          1,
          2,
          10,
          1,
          1,
          2,
          2,
          3,
          0,
          1,
          1,
          0,
          1,
          6,
          3,
          2,
          1,
          5,
          1,
          0,
          1,
          1,
          1,
          1,
          1,
          1,
          2,
          1,
          2,
          1,
          1,
          2,
          1,
          2,
          5,
          0,
          1,
          1,
          1,
          1,
          2,
          2,
          2,
          1,
          4,
          1,
          2,
          2,
          2,
          3,
          1,
          1,
          2,
          1,
          1,
          1,
          1,
          1,
          2,
          4,
          1,
          1,
          2,
          4,
          2,
          1,
          1,
          1,
          1,
          4,
          1,
          1,
          1,
          2,
          1,
          -1,
          5,
          1,
          1,
          1,
          1,
          1,
          2,
          3,
          9,
          1,
          3,
          4,
          1,
          5,
          1,
          4,
          1,
          1,
          2,
          1,
          1,
          1,
          1,
          1,
          1,
          1,
          1,
          1,
          1,
          -1,
          2,
          1,
          2,
          -1,
          1,
          1,
          3,
          1,
          2,
          1,
          1,
          3,
          1,
          3,
          1,
          1,
          4,
          4,
          1,
          1,
          1,
          1,
          2,
          2,
          2,
          1,
          1,
          3,
          1,
          3,
          1,
          1,
          3,
          1,
          1,
          4,
          7,
          2,
          2,
          2,
          1,
          4,
          11,
          3,
          1,
          5,
          2,
          2,
          5,
          1,
          1,
          1,
          2,
          1,
          2,
          1,
          1,
          1,
          1,
          1,
          1,
          5,
          2,
          4,
          1,
          2,
          1,
          6,
          1,
          4,
          1,
          8,
          3,
          1,
          1,
          6,
          4,
          7,
          12,
          1,
          1,
          3,
          8,
          2,
          1,
          1,
          2,
          1,
          4,
          7,
          2,
          7,
          0,
          1,
          1,
          3,
          1,
          1,
          3,
          1,
          2,
          2,
          3,
          1,
          2,
          2,
          1,
          1,
          3,
          1,
          6,
          2,
          1,
          1,
          -3,
          0,
          2,
          5,
          4,
          3,
          1,
          10,
          4,
          0,
          -1,
          2,
          1,
          3,
          1,
          2,
          2,
          2,
          4,
          5,
          1,
          1,
          3,
          -1,
          3,
          1,
          1,
          0,
          1,
          8,
          3,
          1,
          1,
          1,
          1,
          1,
          1,
          1,
          2,
          1,
          1,
          0,
          1,
          -7,
          1,
          4,
          1,
          1,
          2,
          3,
          2,
          4,
          1,
          3,
          1,
          1,
          1,
          0,
          1,
          2,
          1,
          2,
          1,
          1,
          1,
          1,
          1,
          1,
          1,
          1,
          3,
          1,
          1,
          1,
          2,
          3,
          1,
          1,
          1,
          6,
          1,
          1,
          2,
          1,
          3,
          -2,
          3,
          1,
          1,
          1,
          1,
          2,
          7,
          1,
          1,
          2,
          2,
          2,
          1,
          3,
          1,
          1,
          1,
          1,
          1,
          5,
          5,
          2,
          1,
          1,
          3,
          1,
          2,
          -2,
          1,
          1,
          6,
          6,
          4,
          2,
          3,
          4,
          2,
          6,
          1,
          3,
          1,
          1,
          2,
          1,
          3,
          1,
          1,
          1,
          2,
          1,
          2,
          5,
          6,
          3,
          3,
          6,
          1,
          2,
          1,
          2,
          1,
          2,
          1,
          2,
          0,
          1,
          0,
          3,
          6,
          1,
          0,
          8,
          1,
          4,
          1,
          1,
          6,
          4,
          5,
          1,
          3,
          0,
          6,
          4,
          2,
          46,
          2,
          1,
          1,
          2,
          2,
          1,
          1,
          1,
          1,
          2,
          6,
          2,
          2,
          15,
          2,
          1,
          3,
          1,
          1,
          1,
          3,
          3,
          1,
          1,
          4,
          2,
          2,
          4,
          1,
          1,
          3,
          7,
          1,
          0,
          1,
          1,
          1,
          6,
          4,
          3,
          2,
          4,
          1,
          1,
          1,
          3,
          6,
          -5,
          1,
          1,
          2,
          1,
          1,
          4,
          4,
          1,
          1,
          1
         ],
         "xaxis": "x",
         "yaxis": "y"
        }
       ],
       "layout": {
        "barmode": "relative",
        "legend": {
         "tracegroupgap": 0
        },
        "margin": {
         "t": 60
        },
        "template": {
         "data": {
          "bar": [
           {
            "error_x": {
             "color": "#2a3f5f"
            },
            "error_y": {
             "color": "#2a3f5f"
            },
            "marker": {
             "line": {
              "color": "#E5ECF6",
              "width": 0.5
             }
            },
            "type": "bar"
           }
          ],
          "barpolar": [
           {
            "marker": {
             "line": {
              "color": "#E5ECF6",
              "width": 0.5
             }
            },
            "type": "barpolar"
           }
          ],
          "carpet": [
           {
            "aaxis": {
             "endlinecolor": "#2a3f5f",
             "gridcolor": "white",
             "linecolor": "white",
             "minorgridcolor": "white",
             "startlinecolor": "#2a3f5f"
            },
            "baxis": {
             "endlinecolor": "#2a3f5f",
             "gridcolor": "white",
             "linecolor": "white",
             "minorgridcolor": "white",
             "startlinecolor": "#2a3f5f"
            },
            "type": "carpet"
           }
          ],
          "choropleth": [
           {
            "colorbar": {
             "outlinewidth": 0,
             "ticks": ""
            },
            "type": "choropleth"
           }
          ],
          "contour": [
           {
            "colorbar": {
             "outlinewidth": 0,
             "ticks": ""
            },
            "colorscale": [
             [
              0,
              "#0d0887"
             ],
             [
              0.1111111111111111,
              "#46039f"
             ],
             [
              0.2222222222222222,
              "#7201a8"
             ],
             [
              0.3333333333333333,
              "#9c179e"
             ],
             [
              0.4444444444444444,
              "#bd3786"
             ],
             [
              0.5555555555555556,
              "#d8576b"
             ],
             [
              0.6666666666666666,
              "#ed7953"
             ],
             [
              0.7777777777777778,
              "#fb9f3a"
             ],
             [
              0.8888888888888888,
              "#fdca26"
             ],
             [
              1,
              "#f0f921"
             ]
            ],
            "type": "contour"
           }
          ],
          "contourcarpet": [
           {
            "colorbar": {
             "outlinewidth": 0,
             "ticks": ""
            },
            "type": "contourcarpet"
           }
          ],
          "heatmap": [
           {
            "colorbar": {
             "outlinewidth": 0,
             "ticks": ""
            },
            "colorscale": [
             [
              0,
              "#0d0887"
             ],
             [
              0.1111111111111111,
              "#46039f"
             ],
             [
              0.2222222222222222,
              "#7201a8"
             ],
             [
              0.3333333333333333,
              "#9c179e"
             ],
             [
              0.4444444444444444,
              "#bd3786"
             ],
             [
              0.5555555555555556,
              "#d8576b"
             ],
             [
              0.6666666666666666,
              "#ed7953"
             ],
             [
              0.7777777777777778,
              "#fb9f3a"
             ],
             [
              0.8888888888888888,
              "#fdca26"
             ],
             [
              1,
              "#f0f921"
             ]
            ],
            "type": "heatmap"
           }
          ],
          "heatmapgl": [
           {
            "colorbar": {
             "outlinewidth": 0,
             "ticks": ""
            },
            "colorscale": [
             [
              0,
              "#0d0887"
             ],
             [
              0.1111111111111111,
              "#46039f"
             ],
             [
              0.2222222222222222,
              "#7201a8"
             ],
             [
              0.3333333333333333,
              "#9c179e"
             ],
             [
              0.4444444444444444,
              "#bd3786"
             ],
             [
              0.5555555555555556,
              "#d8576b"
             ],
             [
              0.6666666666666666,
              "#ed7953"
             ],
             [
              0.7777777777777778,
              "#fb9f3a"
             ],
             [
              0.8888888888888888,
              "#fdca26"
             ],
             [
              1,
              "#f0f921"
             ]
            ],
            "type": "heatmapgl"
           }
          ],
          "histogram": [
           {
            "marker": {
             "colorbar": {
              "outlinewidth": 0,
              "ticks": ""
             }
            },
            "type": "histogram"
           }
          ],
          "histogram2d": [
           {
            "colorbar": {
             "outlinewidth": 0,
             "ticks": ""
            },
            "colorscale": [
             [
              0,
              "#0d0887"
             ],
             [
              0.1111111111111111,
              "#46039f"
             ],
             [
              0.2222222222222222,
              "#7201a8"
             ],
             [
              0.3333333333333333,
              "#9c179e"
             ],
             [
              0.4444444444444444,
              "#bd3786"
             ],
             [
              0.5555555555555556,
              "#d8576b"
             ],
             [
              0.6666666666666666,
              "#ed7953"
             ],
             [
              0.7777777777777778,
              "#fb9f3a"
             ],
             [
              0.8888888888888888,
              "#fdca26"
             ],
             [
              1,
              "#f0f921"
             ]
            ],
            "type": "histogram2d"
           }
          ],
          "histogram2dcontour": [
           {
            "colorbar": {
             "outlinewidth": 0,
             "ticks": ""
            },
            "colorscale": [
             [
              0,
              "#0d0887"
             ],
             [
              0.1111111111111111,
              "#46039f"
             ],
             [
              0.2222222222222222,
              "#7201a8"
             ],
             [
              0.3333333333333333,
              "#9c179e"
             ],
             [
              0.4444444444444444,
              "#bd3786"
             ],
             [
              0.5555555555555556,
              "#d8576b"
             ],
             [
              0.6666666666666666,
              "#ed7953"
             ],
             [
              0.7777777777777778,
              "#fb9f3a"
             ],
             [
              0.8888888888888888,
              "#fdca26"
             ],
             [
              1,
              "#f0f921"
             ]
            ],
            "type": "histogram2dcontour"
           }
          ],
          "mesh3d": [
           {
            "colorbar": {
             "outlinewidth": 0,
             "ticks": ""
            },
            "type": "mesh3d"
           }
          ],
          "parcoords": [
           {
            "line": {
             "colorbar": {
              "outlinewidth": 0,
              "ticks": ""
             }
            },
            "type": "parcoords"
           }
          ],
          "pie": [
           {
            "automargin": true,
            "type": "pie"
           }
          ],
          "scatter": [
           {
            "marker": {
             "colorbar": {
              "outlinewidth": 0,
              "ticks": ""
             }
            },
            "type": "scatter"
           }
          ],
          "scatter3d": [
           {
            "line": {
             "colorbar": {
              "outlinewidth": 0,
              "ticks": ""
             }
            },
            "marker": {
             "colorbar": {
              "outlinewidth": 0,
              "ticks": ""
             }
            },
            "type": "scatter3d"
           }
          ],
          "scattercarpet": [
           {
            "marker": {
             "colorbar": {
              "outlinewidth": 0,
              "ticks": ""
             }
            },
            "type": "scattercarpet"
           }
          ],
          "scattergeo": [
           {
            "marker": {
             "colorbar": {
              "outlinewidth": 0,
              "ticks": ""
             }
            },
            "type": "scattergeo"
           }
          ],
          "scattergl": [
           {
            "marker": {
             "colorbar": {
              "outlinewidth": 0,
              "ticks": ""
             }
            },
            "type": "scattergl"
           }
          ],
          "scattermapbox": [
           {
            "marker": {
             "colorbar": {
              "outlinewidth": 0,
              "ticks": ""
             }
            },
            "type": "scattermapbox"
           }
          ],
          "scatterpolar": [
           {
            "marker": {
             "colorbar": {
              "outlinewidth": 0,
              "ticks": ""
             }
            },
            "type": "scatterpolar"
           }
          ],
          "scatterpolargl": [
           {
            "marker": {
             "colorbar": {
              "outlinewidth": 0,
              "ticks": ""
             }
            },
            "type": "scatterpolargl"
           }
          ],
          "scatterternary": [
           {
            "marker": {
             "colorbar": {
              "outlinewidth": 0,
              "ticks": ""
             }
            },
            "type": "scatterternary"
           }
          ],
          "surface": [
           {
            "colorbar": {
             "outlinewidth": 0,
             "ticks": ""
            },
            "colorscale": [
             [
              0,
              "#0d0887"
             ],
             [
              0.1111111111111111,
              "#46039f"
             ],
             [
              0.2222222222222222,
              "#7201a8"
             ],
             [
              0.3333333333333333,
              "#9c179e"
             ],
             [
              0.4444444444444444,
              "#bd3786"
             ],
             [
              0.5555555555555556,
              "#d8576b"
             ],
             [
              0.6666666666666666,
              "#ed7953"
             ],
             [
              0.7777777777777778,
              "#fb9f3a"
             ],
             [
              0.8888888888888888,
              "#fdca26"
             ],
             [
              1,
              "#f0f921"
             ]
            ],
            "type": "surface"
           }
          ],
          "table": [
           {
            "cells": {
             "fill": {
              "color": "#EBF0F8"
             },
             "line": {
              "color": "white"
             }
            },
            "header": {
             "fill": {
              "color": "#C8D4E3"
             },
             "line": {
              "color": "white"
             }
            },
            "type": "table"
           }
          ]
         },
         "layout": {
          "annotationdefaults": {
           "arrowcolor": "#2a3f5f",
           "arrowhead": 0,
           "arrowwidth": 1
          },
          "autotypenumbers": "strict",
          "coloraxis": {
           "colorbar": {
            "outlinewidth": 0,
            "ticks": ""
           }
          },
          "colorscale": {
           "diverging": [
            [
             0,
             "#8e0152"
            ],
            [
             0.1,
             "#c51b7d"
            ],
            [
             0.2,
             "#de77ae"
            ],
            [
             0.3,
             "#f1b6da"
            ],
            [
             0.4,
             "#fde0ef"
            ],
            [
             0.5,
             "#f7f7f7"
            ],
            [
             0.6,
             "#e6f5d0"
            ],
            [
             0.7,
             "#b8e186"
            ],
            [
             0.8,
             "#7fbc41"
            ],
            [
             0.9,
             "#4d9221"
            ],
            [
             1,
             "#276419"
            ]
           ],
           "sequential": [
            [
             0,
             "#0d0887"
            ],
            [
             0.1111111111111111,
             "#46039f"
            ],
            [
             0.2222222222222222,
             "#7201a8"
            ],
            [
             0.3333333333333333,
             "#9c179e"
            ],
            [
             0.4444444444444444,
             "#bd3786"
            ],
            [
             0.5555555555555556,
             "#d8576b"
            ],
            [
             0.6666666666666666,
             "#ed7953"
            ],
            [
             0.7777777777777778,
             "#fb9f3a"
            ],
            [
             0.8888888888888888,
             "#fdca26"
            ],
            [
             1,
             "#f0f921"
            ]
           ],
           "sequentialminus": [
            [
             0,
             "#0d0887"
            ],
            [
             0.1111111111111111,
             "#46039f"
            ],
            [
             0.2222222222222222,
             "#7201a8"
            ],
            [
             0.3333333333333333,
             "#9c179e"
            ],
            [
             0.4444444444444444,
             "#bd3786"
            ],
            [
             0.5555555555555556,
             "#d8576b"
            ],
            [
             0.6666666666666666,
             "#ed7953"
            ],
            [
             0.7777777777777778,
             "#fb9f3a"
            ],
            [
             0.8888888888888888,
             "#fdca26"
            ],
            [
             1,
             "#f0f921"
            ]
           ]
          },
          "colorway": [
           "#636efa",
           "#EF553B",
           "#00cc96",
           "#ab63fa",
           "#FFA15A",
           "#19d3f3",
           "#FF6692",
           "#B6E880",
           "#FF97FF",
           "#FECB52"
          ],
          "font": {
           "color": "#2a3f5f"
          },
          "geo": {
           "bgcolor": "white",
           "lakecolor": "white",
           "landcolor": "#E5ECF6",
           "showlakes": true,
           "showland": true,
           "subunitcolor": "white"
          },
          "hoverlabel": {
           "align": "left"
          },
          "hovermode": "closest",
          "mapbox": {
           "style": "light"
          },
          "paper_bgcolor": "white",
          "plot_bgcolor": "#E5ECF6",
          "polar": {
           "angularaxis": {
            "gridcolor": "white",
            "linecolor": "white",
            "ticks": ""
           },
           "bgcolor": "#E5ECF6",
           "radialaxis": {
            "gridcolor": "white",
            "linecolor": "white",
            "ticks": ""
           }
          },
          "scene": {
           "xaxis": {
            "backgroundcolor": "#E5ECF6",
            "gridcolor": "white",
            "gridwidth": 2,
            "linecolor": "white",
            "showbackground": true,
            "ticks": "",
            "zerolinecolor": "white"
           },
           "yaxis": {
            "backgroundcolor": "#E5ECF6",
            "gridcolor": "white",
            "gridwidth": 2,
            "linecolor": "white",
            "showbackground": true,
            "ticks": "",
            "zerolinecolor": "white"
           },
           "zaxis": {
            "backgroundcolor": "#E5ECF6",
            "gridcolor": "white",
            "gridwidth": 2,
            "linecolor": "white",
            "showbackground": true,
            "ticks": "",
            "zerolinecolor": "white"
           }
          },
          "shapedefaults": {
           "line": {
            "color": "#2a3f5f"
           }
          },
          "ternary": {
           "aaxis": {
            "gridcolor": "white",
            "linecolor": "white",
            "ticks": ""
           },
           "baxis": {
            "gridcolor": "white",
            "linecolor": "white",
            "ticks": ""
           },
           "bgcolor": "#E5ECF6",
           "caxis": {
            "gridcolor": "white",
            "linecolor": "white",
            "ticks": ""
           }
          },
          "title": {
           "x": 0.05
          },
          "xaxis": {
           "automargin": true,
           "gridcolor": "white",
           "linecolor": "white",
           "ticks": "",
           "title": {
            "standoff": 15
           },
           "zerolinecolor": "white",
           "zerolinewidth": 2
          },
          "yaxis": {
           "automargin": true,
           "gridcolor": "white",
           "linecolor": "white",
           "ticks": "",
           "title": {
            "standoff": 15
           },
           "zerolinecolor": "white",
           "zerolinewidth": 2
          }
         }
        },
        "title": {
         "text": "Impact Score"
        },
        "xaxis": {
         "anchor": "y",
         "domain": [
          0,
          1
         ],
         "title": {
          "text": "score"
         }
        },
        "yaxis": {
         "anchor": "x",
         "domain": [
          0,
          1
         ],
         "title": {
          "text": "count"
         }
        }
       }
      },
      "text/html": [
       "<div>                            <div id=\"28ae26e3-e0a4-4e6d-a4d9-8ef38f104d6b\" class=\"plotly-graph-div\" style=\"height:525px; width:100%;\"></div>            <script type=\"text/javascript\">                require([\"plotly\"], function(Plotly) {                    window.PLOTLYENV=window.PLOTLYENV || {};                                    if (document.getElementById(\"28ae26e3-e0a4-4e6d-a4d9-8ef38f104d6b\")) {                    Plotly.newPlot(                        \"28ae26e3-e0a4-4e6d-a4d9-8ef38f104d6b\",                        [{\"alignmentgroup\": \"True\", \"bingroup\": \"x\", \"hovertemplate\": \"score=%{x}<br>count=%{y}<extra></extra>\", \"legendgroup\": \"\", \"marker\": {\"color\": \"turquoise\", \"line\": {\"color\": \"rgb(8,48,107)\", \"width\": 1.5}}, \"name\": \"\", \"offsetgroup\": \"\", \"orientation\": \"v\", \"showlegend\": false, \"type\": \"histogram\", \"x\": [1, 1, 1, 4, 5, 0, 1, 0, 0, 2, 1, 1, 2, 12, 57, 16, 15, 45, 0, 1, 0, 0, 1, 11, 0, 29, 5, 4, 0, 9, 0, 2, 11, 7, 7, 113, 5, 221, 21, 4, 13, 26, 5, 26, 297, 38, 8, 10, 3, 13, 8, 1, 8, 14, 3, 43, 8, 5, 34, 0, 0, 0, 13, 18, 3900, 16, 6, 0, 39, 0, 0, 3, 1, 21, 0, 3, 0, 74, 19, 4, 0, 0, 19, 8, 1, 0, 5, 81, 9, 9, 0, 0, 5, 0, 13, 0, 8, 18, 6, 7, 5, 0, 4, 41, 7, 67, 8, 5, 0, 13, 63, 17, 0, 18, 13, 64, 6, 23, 2, 12, 0, 15, 0, 494, 1, 8, 3, 1, 18, 0, 10, 1, 3, 7, 13, 3, 2, 2, 21, 10, 9, 3, 5, 17, 1, 10, 31, 49, 2, 37, 259, 6, 5, 875, 22, 11, 10, 298, 16, 7, 3, 19, 10, 12, 340, 3, 0, 0, 42, 321, 55, 11, 4, 41, 10, 247, 13, 10, 0, 10, 7, 22, 47, 0, 8, 3, 123, 34, 129, 21, 17, 76, 337, 17, 16, 13, 21, 7909, 9, 116, 0, 183, 2, 13, 2, 47, 1, 2, 473, 4, 3, 0, 41, 4, 9, 3, 0, 3, 0, 5, 48, 278, 13, 2, 41, 24, 0, 20, 20, 18, 10, 36, 5099, 12, 10, 19, 15, 4, 44, 51, 0, 87, 23, 0, 7, 75, 10, 0, 4, 0, 137, 2, 34, 53, 0, 327, 0, 78, 0, 4, 0, 0, 22, 0, 6, 15, 1, 8, 463, 12, 2, 722, 0, 53, 21, 0, 0, 28, 1, 1, 1, 1, 1, 1, 1, 1, 1, 1, 1, 1, 1, 1, 1, 1, 1, 1, 1, 1, 1, 1, 1, 1, 1, 1, 1, 1, 1, 1, 0, 1, 1, 1, 1, 1, 1, 1, 1, 2, 1, 1, 1, 1, 1, 2, 1, 3, 1, 4, 1, 1, 1, 1, 1, 1, 1, 1, 1, 1, 0, 1, 1, 1, 1, 1, 1, 3, 1, 1, 0, 1, 5, 1, 1, 2, 1, 1, 1, 4, 2, 1, 3, 5, 1, 2, 1, 1, 1, 0, 1, 2, 2, 1, 1, 2, 1, 2, 1, 1, 1, 1, 1, 5, 1, 1, 1, 2, 1, 1, 1, 1, 1, 3, 2, 2, 1, 1, 1, 1, 12, 0, 2, 1, 1, 1, -2, 1, 2, -2, 1, 1, 1, 5, 6, 1, 1, 2, 1, 3, 1, 2, 4, 1, 1, 0, -1, -1, 1, 1, 0, 1, 1, 1, 1, 4, 1, 1, 1, 6, 1, 1, 0, 6, 1, 3, 2, 2, 1, 1, 3, 1, 2, 0, 1, 1, 3, 1, 1, 2, 1, 1, 1, 1, 1, 1, 1, 1, 4, 1, 1, 1, 1, 1, 1, 6, 1, 1, 1, 2, 0, 1, 2, 1, 2, 1, 1, 1, 1, 1, 2, 2, 1, 2, 1, 1, 1, 1, 2, 1, 1, 0, 1, 2, 1, 2, 1, 1, 4, 5, 1, 4, 1, 4, 1, 4, 1, 2, 1, 1, 1, 2, 1, 1, 1, 1, 1, 3, 1, 1, 1, 7, -1, 2, 0, 1, 3, 1, 1, 1, 1, 1, 1, 8, 2, 1, 7, 9, 1, 1, -2, 1, 1, 2, 0, 4, 1, 5, 2, 3, 1, 7, 1, 1, 5, 3, 1, -2, 2, 1, 5, 4, 1, 1, 6, 5, 1, 3, 3, 3, 5, 0, 1, 4, 2, 1, 1, 1, 7, 1, 1, 1, 0, 2, 1, 1, 5, 1, 1, 1, 1, 3, 1, 1, 1, 1, 1, 1, 1, 1, 1, 4, 3, 1, 1, -1, 1, 1, 5, 1, 2, 1, 1, 1, 1, 1, 5, 1, 1, 3, 2, 1, 1, 1, 3, 1, 1, 1, 1, 2, 11, 1, 6, 1, 4, 1, 1, 1, 11, 4, 3, 1, 2, 1, 1, 7, 1, 1, 1, 1, 1, 2, 5, 1, 2, 1, 1, 1, 1, 3, 1, 4, 2, 2, 1, 1, 1, 1, 1, 1, 1, 1, 7, 5, 1, 2, 1, 1, 1, 1, 2, 1, 6, 5, 1, 1, 5, 7, 4, 1, 1, 1, 8, 2, 1, 4, 2, 1, 5, 1, 1, 1, 2, 0, 1, 1, 1, 1, 1, 1, 1, 3, 1, 1, 1, 7, 2, 2, 0, 1, 1, 2, 1, 1, 1, 15, 12, 13, 7, 1, 2, 2, 2, 1, 1, 3, 1, 2, 4, 1, 1, 1, 1, 1, 1, 1, 1, 1, 3, 5, 3, 1, 1, 1, 2, 2, 1, 4, 1, 5, -2, 2, 1, 2, 2, 1, 3, 5, 2, 1, 1, 4, 2, 1, 1, 1, 0, 1, 1, 1, 1, 1, 0, 1, 2, 1, 6, 2, 6, 1, 1, -1, 0, 4, 2, 6, 1, 1, 2, 2, 1, 2, 10, 1, 1, 2, 2, 3, 0, 1, 1, 0, 1, 6, 3, 2, 1, 5, 1, 0, 1, 1, 1, 1, 1, 1, 2, 1, 2, 1, 1, 2, 1, 2, 5, 0, 1, 1, 1, 1, 2, 2, 2, 1, 4, 1, 2, 2, 2, 3, 1, 1, 2, 1, 1, 1, 1, 1, 2, 4, 1, 1, 2, 4, 2, 1, 1, 1, 1, 4, 1, 1, 1, 2, 1, -1, 5, 1, 1, 1, 1, 1, 2, 3, 9, 1, 3, 4, 1, 5, 1, 4, 1, 1, 2, 1, 1, 1, 1, 1, 1, 1, 1, 1, 1, -1, 2, 1, 2, -1, 1, 1, 3, 1, 2, 1, 1, 3, 1, 3, 1, 1, 4, 4, 1, 1, 1, 1, 2, 2, 2, 1, 1, 3, 1, 3, 1, 1, 3, 1, 1, 4, 7, 2, 2, 2, 1, 4, 11, 3, 1, 5, 2, 2, 5, 1, 1, 1, 2, 1, 2, 1, 1, 1, 1, 1, 1, 5, 2, 4, 1, 2, 1, 6, 1, 4, 1, 8, 3, 1, 1, 6, 4, 7, 12, 1, 1, 3, 8, 2, 1, 1, 2, 1, 4, 7, 2, 7, 0, 1, 1, 3, 1, 1, 3, 1, 2, 2, 3, 1, 2, 2, 1, 1, 3, 1, 6, 2, 1, 1, -3, 0, 2, 5, 4, 3, 1, 10, 4, 0, -1, 2, 1, 3, 1, 2, 2, 2, 4, 5, 1, 1, 3, -1, 3, 1, 1, 0, 1, 8, 3, 1, 1, 1, 1, 1, 1, 1, 2, 1, 1, 0, 1, -7, 1, 4, 1, 1, 2, 3, 2, 4, 1, 3, 1, 1, 1, 0, 1, 2, 1, 2, 1, 1, 1, 1, 1, 1, 1, 1, 3, 1, 1, 1, 2, 3, 1, 1, 1, 6, 1, 1, 2, 1, 3, -2, 3, 1, 1, 1, 1, 2, 7, 1, 1, 2, 2, 2, 1, 3, 1, 1, 1, 1, 1, 5, 5, 2, 1, 1, 3, 1, 2, -2, 1, 1, 6, 6, 4, 2, 3, 4, 2, 6, 1, 3, 1, 1, 2, 1, 3, 1, 1, 1, 2, 1, 2, 5, 6, 3, 3, 6, 1, 2, 1, 2, 1, 2, 1, 2, 0, 1, 0, 3, 6, 1, 0, 8, 1, 4, 1, 1, 6, 4, 5, 1, 3, 0, 6, 4, 2, 46, 2, 1, 1, 2, 2, 1, 1, 1, 1, 2, 6, 2, 2, 15, 2, 1, 3, 1, 1, 1, 3, 3, 1, 1, 4, 2, 2, 4, 1, 1, 3, 7, 1, 0, 1, 1, 1, 6, 4, 3, 2, 4, 1, 1, 1, 3, 6, -5, 1, 1, 2, 1, 1, 4, 4, 1, 1, 1], \"xaxis\": \"x\", \"yaxis\": \"y\"}],                        {\"barmode\": \"relative\", \"legend\": {\"tracegroupgap\": 0}, \"margin\": {\"t\": 60}, \"template\": {\"data\": {\"bar\": [{\"error_x\": {\"color\": \"#2a3f5f\"}, \"error_y\": {\"color\": \"#2a3f5f\"}, \"marker\": {\"line\": {\"color\": \"#E5ECF6\", \"width\": 0.5}}, \"type\": \"bar\"}], \"barpolar\": [{\"marker\": {\"line\": {\"color\": \"#E5ECF6\", \"width\": 0.5}}, \"type\": \"barpolar\"}], \"carpet\": [{\"aaxis\": {\"endlinecolor\": \"#2a3f5f\", \"gridcolor\": \"white\", \"linecolor\": \"white\", \"minorgridcolor\": \"white\", \"startlinecolor\": \"#2a3f5f\"}, \"baxis\": {\"endlinecolor\": \"#2a3f5f\", \"gridcolor\": \"white\", \"linecolor\": \"white\", \"minorgridcolor\": \"white\", \"startlinecolor\": \"#2a3f5f\"}, \"type\": \"carpet\"}], \"choropleth\": [{\"colorbar\": {\"outlinewidth\": 0, \"ticks\": \"\"}, \"type\": \"choropleth\"}], \"contour\": [{\"colorbar\": {\"outlinewidth\": 0, \"ticks\": \"\"}, \"colorscale\": [[0.0, \"#0d0887\"], [0.1111111111111111, \"#46039f\"], [0.2222222222222222, \"#7201a8\"], [0.3333333333333333, \"#9c179e\"], [0.4444444444444444, \"#bd3786\"], [0.5555555555555556, \"#d8576b\"], [0.6666666666666666, \"#ed7953\"], [0.7777777777777778, \"#fb9f3a\"], [0.8888888888888888, \"#fdca26\"], [1.0, \"#f0f921\"]], \"type\": \"contour\"}], \"contourcarpet\": [{\"colorbar\": {\"outlinewidth\": 0, \"ticks\": \"\"}, \"type\": \"contourcarpet\"}], \"heatmap\": [{\"colorbar\": {\"outlinewidth\": 0, \"ticks\": \"\"}, \"colorscale\": [[0.0, \"#0d0887\"], [0.1111111111111111, \"#46039f\"], [0.2222222222222222, \"#7201a8\"], [0.3333333333333333, \"#9c179e\"], [0.4444444444444444, \"#bd3786\"], [0.5555555555555556, \"#d8576b\"], [0.6666666666666666, \"#ed7953\"], [0.7777777777777778, \"#fb9f3a\"], [0.8888888888888888, \"#fdca26\"], [1.0, \"#f0f921\"]], \"type\": \"heatmap\"}], \"heatmapgl\": [{\"colorbar\": {\"outlinewidth\": 0, \"ticks\": \"\"}, \"colorscale\": [[0.0, \"#0d0887\"], [0.1111111111111111, \"#46039f\"], [0.2222222222222222, \"#7201a8\"], [0.3333333333333333, \"#9c179e\"], [0.4444444444444444, \"#bd3786\"], [0.5555555555555556, \"#d8576b\"], [0.6666666666666666, \"#ed7953\"], [0.7777777777777778, \"#fb9f3a\"], [0.8888888888888888, \"#fdca26\"], [1.0, \"#f0f921\"]], \"type\": \"heatmapgl\"}], \"histogram\": [{\"marker\": {\"colorbar\": {\"outlinewidth\": 0, \"ticks\": \"\"}}, \"type\": \"histogram\"}], \"histogram2d\": [{\"colorbar\": {\"outlinewidth\": 0, \"ticks\": \"\"}, \"colorscale\": [[0.0, \"#0d0887\"], [0.1111111111111111, \"#46039f\"], [0.2222222222222222, \"#7201a8\"], [0.3333333333333333, \"#9c179e\"], [0.4444444444444444, \"#bd3786\"], [0.5555555555555556, \"#d8576b\"], [0.6666666666666666, \"#ed7953\"], [0.7777777777777778, \"#fb9f3a\"], [0.8888888888888888, \"#fdca26\"], [1.0, \"#f0f921\"]], \"type\": \"histogram2d\"}], \"histogram2dcontour\": [{\"colorbar\": {\"outlinewidth\": 0, \"ticks\": \"\"}, \"colorscale\": [[0.0, \"#0d0887\"], [0.1111111111111111, \"#46039f\"], [0.2222222222222222, \"#7201a8\"], [0.3333333333333333, \"#9c179e\"], [0.4444444444444444, \"#bd3786\"], [0.5555555555555556, \"#d8576b\"], [0.6666666666666666, \"#ed7953\"], [0.7777777777777778, \"#fb9f3a\"], [0.8888888888888888, \"#fdca26\"], [1.0, \"#f0f921\"]], \"type\": \"histogram2dcontour\"}], \"mesh3d\": [{\"colorbar\": {\"outlinewidth\": 0, \"ticks\": \"\"}, \"type\": \"mesh3d\"}], \"parcoords\": [{\"line\": {\"colorbar\": {\"outlinewidth\": 0, \"ticks\": \"\"}}, \"type\": \"parcoords\"}], \"pie\": [{\"automargin\": true, \"type\": \"pie\"}], \"scatter\": [{\"marker\": {\"colorbar\": {\"outlinewidth\": 0, \"ticks\": \"\"}}, \"type\": \"scatter\"}], \"scatter3d\": [{\"line\": {\"colorbar\": {\"outlinewidth\": 0, \"ticks\": \"\"}}, \"marker\": {\"colorbar\": {\"outlinewidth\": 0, \"ticks\": \"\"}}, \"type\": \"scatter3d\"}], \"scattercarpet\": [{\"marker\": {\"colorbar\": {\"outlinewidth\": 0, \"ticks\": \"\"}}, \"type\": \"scattercarpet\"}], \"scattergeo\": [{\"marker\": {\"colorbar\": {\"outlinewidth\": 0, \"ticks\": \"\"}}, \"type\": \"scattergeo\"}], \"scattergl\": [{\"marker\": {\"colorbar\": {\"outlinewidth\": 0, \"ticks\": \"\"}}, \"type\": \"scattergl\"}], \"scattermapbox\": [{\"marker\": {\"colorbar\": {\"outlinewidth\": 0, \"ticks\": \"\"}}, \"type\": \"scattermapbox\"}], \"scatterpolar\": [{\"marker\": {\"colorbar\": {\"outlinewidth\": 0, \"ticks\": \"\"}}, \"type\": \"scatterpolar\"}], \"scatterpolargl\": [{\"marker\": {\"colorbar\": {\"outlinewidth\": 0, \"ticks\": \"\"}}, \"type\": \"scatterpolargl\"}], \"scatterternary\": [{\"marker\": {\"colorbar\": {\"outlinewidth\": 0, \"ticks\": \"\"}}, \"type\": \"scatterternary\"}], \"surface\": [{\"colorbar\": {\"outlinewidth\": 0, \"ticks\": \"\"}, \"colorscale\": [[0.0, \"#0d0887\"], [0.1111111111111111, \"#46039f\"], [0.2222222222222222, \"#7201a8\"], [0.3333333333333333, \"#9c179e\"], [0.4444444444444444, \"#bd3786\"], [0.5555555555555556, \"#d8576b\"], [0.6666666666666666, \"#ed7953\"], [0.7777777777777778, \"#fb9f3a\"], [0.8888888888888888, \"#fdca26\"], [1.0, \"#f0f921\"]], \"type\": \"surface\"}], \"table\": [{\"cells\": {\"fill\": {\"color\": \"#EBF0F8\"}, \"line\": {\"color\": \"white\"}}, \"header\": {\"fill\": {\"color\": \"#C8D4E3\"}, \"line\": {\"color\": \"white\"}}, \"type\": \"table\"}]}, \"layout\": {\"annotationdefaults\": {\"arrowcolor\": \"#2a3f5f\", \"arrowhead\": 0, \"arrowwidth\": 1}, \"autotypenumbers\": \"strict\", \"coloraxis\": {\"colorbar\": {\"outlinewidth\": 0, \"ticks\": \"\"}}, \"colorscale\": {\"diverging\": [[0, \"#8e0152\"], [0.1, \"#c51b7d\"], [0.2, \"#de77ae\"], [0.3, \"#f1b6da\"], [0.4, \"#fde0ef\"], [0.5, \"#f7f7f7\"], [0.6, \"#e6f5d0\"], [0.7, \"#b8e186\"], [0.8, \"#7fbc41\"], [0.9, \"#4d9221\"], [1, \"#276419\"]], \"sequential\": [[0.0, \"#0d0887\"], [0.1111111111111111, \"#46039f\"], [0.2222222222222222, \"#7201a8\"], [0.3333333333333333, \"#9c179e\"], [0.4444444444444444, \"#bd3786\"], [0.5555555555555556, \"#d8576b\"], [0.6666666666666666, \"#ed7953\"], [0.7777777777777778, \"#fb9f3a\"], [0.8888888888888888, \"#fdca26\"], [1.0, \"#f0f921\"]], \"sequentialminus\": [[0.0, \"#0d0887\"], [0.1111111111111111, \"#46039f\"], [0.2222222222222222, \"#7201a8\"], [0.3333333333333333, \"#9c179e\"], [0.4444444444444444, \"#bd3786\"], [0.5555555555555556, \"#d8576b\"], [0.6666666666666666, \"#ed7953\"], [0.7777777777777778, \"#fb9f3a\"], [0.8888888888888888, \"#fdca26\"], [1.0, \"#f0f921\"]]}, \"colorway\": [\"#636efa\", \"#EF553B\", \"#00cc96\", \"#ab63fa\", \"#FFA15A\", \"#19d3f3\", \"#FF6692\", \"#B6E880\", \"#FF97FF\", \"#FECB52\"], \"font\": {\"color\": \"#2a3f5f\"}, \"geo\": {\"bgcolor\": \"white\", \"lakecolor\": \"white\", \"landcolor\": \"#E5ECF6\", \"showlakes\": true, \"showland\": true, \"subunitcolor\": \"white\"}, \"hoverlabel\": {\"align\": \"left\"}, \"hovermode\": \"closest\", \"mapbox\": {\"style\": \"light\"}, \"paper_bgcolor\": \"white\", \"plot_bgcolor\": \"#E5ECF6\", \"polar\": {\"angularaxis\": {\"gridcolor\": \"white\", \"linecolor\": \"white\", \"ticks\": \"\"}, \"bgcolor\": \"#E5ECF6\", \"radialaxis\": {\"gridcolor\": \"white\", \"linecolor\": \"white\", \"ticks\": \"\"}}, \"scene\": {\"xaxis\": {\"backgroundcolor\": \"#E5ECF6\", \"gridcolor\": \"white\", \"gridwidth\": 2, \"linecolor\": \"white\", \"showbackground\": true, \"ticks\": \"\", \"zerolinecolor\": \"white\"}, \"yaxis\": {\"backgroundcolor\": \"#E5ECF6\", \"gridcolor\": \"white\", \"gridwidth\": 2, \"linecolor\": \"white\", \"showbackground\": true, \"ticks\": \"\", \"zerolinecolor\": \"white\"}, \"zaxis\": {\"backgroundcolor\": \"#E5ECF6\", \"gridcolor\": \"white\", \"gridwidth\": 2, \"linecolor\": \"white\", \"showbackground\": true, \"ticks\": \"\", \"zerolinecolor\": \"white\"}}, \"shapedefaults\": {\"line\": {\"color\": \"#2a3f5f\"}}, \"ternary\": {\"aaxis\": {\"gridcolor\": \"white\", \"linecolor\": \"white\", \"ticks\": \"\"}, \"baxis\": {\"gridcolor\": \"white\", \"linecolor\": \"white\", \"ticks\": \"\"}, \"bgcolor\": \"#E5ECF6\", \"caxis\": {\"gridcolor\": \"white\", \"linecolor\": \"white\", \"ticks\": \"\"}}, \"title\": {\"x\": 0.05}, \"xaxis\": {\"automargin\": true, \"gridcolor\": \"white\", \"linecolor\": \"white\", \"ticks\": \"\", \"title\": {\"standoff\": 15}, \"zerolinecolor\": \"white\", \"zerolinewidth\": 2}, \"yaxis\": {\"automargin\": true, \"gridcolor\": \"white\", \"linecolor\": \"white\", \"ticks\": \"\", \"title\": {\"standoff\": 15}, \"zerolinecolor\": \"white\", \"zerolinewidth\": 2}}}, \"title\": {\"text\": \"Impact Score\"}, \"xaxis\": {\"anchor\": \"y\", \"domain\": [0.0, 1.0], \"title\": {\"text\": \"score\"}}, \"yaxis\": {\"anchor\": \"x\", \"domain\": [0.0, 1.0], \"title\": {\"text\": \"count\"}}},                        {\"responsive\": true}                    ).then(function(){\n",
       "                            \n",
       "var gd = document.getElementById('28ae26e3-e0a4-4e6d-a4d9-8ef38f104d6b');\n",
       "var x = new MutationObserver(function (mutations, observer) {{\n",
       "        var display = window.getComputedStyle(gd).display;\n",
       "        if (!display || display === 'none') {{\n",
       "            console.log([gd, 'removed!']);\n",
       "            Plotly.purge(gd);\n",
       "            observer.disconnect();\n",
       "        }}\n",
       "}});\n",
       "\n",
       "// Listen for the removal of the full notebook cells\n",
       "var notebookContainer = gd.closest('#notebook-container');\n",
       "if (notebookContainer) {{\n",
       "    x.observe(notebookContainer, {childList: true});\n",
       "}}\n",
       "\n",
       "// Listen for the clearing of the current output cell\n",
       "var outputEl = gd.closest('.output');\n",
       "if (outputEl) {{\n",
       "    x.observe(outputEl, {childList: true});\n",
       "}}\n",
       "\n",
       "                        })                };                });            </script>        </div>"
      ]
     },
     "metadata": {},
     "output_type": "display_data"
    }
   ],
   "source": [
    "# Visualize Impact Scores\n",
    "fig = px.histogram(df.score, x=\"score\")\n",
    "fig.update_traces(marker_color=\"turquoise\",marker_line_color='rgb(8,48,107)',\n",
    "                  marker_line_width=1.5)\n",
    "fig.update_layout(title_text='Impact Score')\n",
    "fig.show()"
   ]
  },
  {
   "cell_type": "code",
   "execution_count": 9,
   "metadata": {},
   "outputs": [
    {
     "data": {
      "application/vnd.plotly.v1+json": {
       "config": {
        "plotlyServerURL": "https://plot.ly"
       },
       "data": [
        {
         "alignmentgroup": "True",
         "hovertemplate": "score=%{x}<extra></extra>",
         "legendgroup": "",
         "marker": {
          "color": "#636efa"
         },
         "name": "",
         "notched": false,
         "offsetgroup": "",
         "orientation": "h",
         "showlegend": false,
         "type": "box",
         "x": [
          1,
          1,
          1,
          4,
          5,
          0,
          1,
          0,
          0,
          2,
          1,
          1,
          2,
          12,
          57,
          16,
          15,
          45,
          0,
          1,
          0,
          0,
          1,
          11,
          0,
          29,
          5,
          4,
          0,
          9,
          0,
          2,
          11,
          7,
          7,
          113,
          5,
          221,
          21,
          4,
          13,
          26,
          5,
          26,
          297,
          38,
          8,
          10,
          3,
          13,
          8,
          1,
          8,
          14,
          3,
          43,
          8,
          5,
          34,
          0,
          0,
          0,
          13,
          18,
          3900,
          16,
          6,
          0,
          39,
          0,
          0,
          3,
          1,
          21,
          0,
          3,
          0,
          74,
          19,
          4,
          0,
          0,
          19,
          8,
          1,
          0,
          5,
          81,
          9,
          9,
          0,
          0,
          5,
          0,
          13,
          0,
          8,
          18,
          6,
          7,
          5,
          0,
          4,
          41,
          7,
          67,
          8,
          5,
          0,
          13,
          63,
          17,
          0,
          18,
          13,
          64,
          6,
          23,
          2,
          12,
          0,
          15,
          0,
          494,
          1,
          8,
          3,
          1,
          18,
          0,
          10,
          1,
          3,
          7,
          13,
          3,
          2,
          2,
          21,
          10,
          9,
          3,
          5,
          17,
          1,
          10,
          31,
          49,
          2,
          37,
          259,
          6,
          5,
          875,
          22,
          11,
          10,
          298,
          16,
          7,
          3,
          19,
          10,
          12,
          340,
          3,
          0,
          0,
          42,
          321,
          55,
          11,
          4,
          41,
          10,
          247,
          13,
          10,
          0,
          10,
          7,
          22,
          47,
          0,
          8,
          3,
          123,
          34,
          129,
          21,
          17,
          76,
          337,
          17,
          16,
          13,
          21,
          7909,
          9,
          116,
          0,
          183,
          2,
          13,
          2,
          47,
          1,
          2,
          473,
          4,
          3,
          0,
          41,
          4,
          9,
          3,
          0,
          3,
          0,
          5,
          48,
          278,
          13,
          2,
          41,
          24,
          0,
          20,
          20,
          18,
          10,
          36,
          5099,
          12,
          10,
          19,
          15,
          4,
          44,
          51,
          0,
          87,
          23,
          0,
          7,
          75,
          10,
          0,
          4,
          0,
          137,
          2,
          34,
          53,
          0,
          327,
          0,
          78,
          0,
          4,
          0,
          0,
          22,
          0,
          6,
          15,
          1,
          8,
          463,
          12,
          2,
          722,
          0,
          53,
          21,
          0,
          0,
          28,
          1,
          1,
          1,
          1,
          1,
          1,
          1,
          1,
          1,
          1,
          1,
          1,
          1,
          1,
          1,
          1,
          1,
          1,
          1,
          1,
          1,
          1,
          1,
          1,
          1,
          1,
          1,
          1,
          1,
          1,
          0,
          1,
          1,
          1,
          1,
          1,
          1,
          1,
          1,
          2,
          1,
          1,
          1,
          1,
          1,
          2,
          1,
          3,
          1,
          4,
          1,
          1,
          1,
          1,
          1,
          1,
          1,
          1,
          1,
          1,
          0,
          1,
          1,
          1,
          1,
          1,
          1,
          3,
          1,
          1,
          0,
          1,
          5,
          1,
          1,
          2,
          1,
          1,
          1,
          4,
          2,
          1,
          3,
          5,
          1,
          2,
          1,
          1,
          1,
          0,
          1,
          2,
          2,
          1,
          1,
          2,
          1,
          2,
          1,
          1,
          1,
          1,
          1,
          5,
          1,
          1,
          1,
          2,
          1,
          1,
          1,
          1,
          1,
          3,
          2,
          2,
          1,
          1,
          1,
          1,
          12,
          0,
          2,
          1,
          1,
          1,
          -2,
          1,
          2,
          -2,
          1,
          1,
          1,
          5,
          6,
          1,
          1,
          2,
          1,
          3,
          1,
          2,
          4,
          1,
          1,
          0,
          -1,
          -1,
          1,
          1,
          0,
          1,
          1,
          1,
          1,
          4,
          1,
          1,
          1,
          6,
          1,
          1,
          0,
          6,
          1,
          3,
          2,
          2,
          1,
          1,
          3,
          1,
          2,
          0,
          1,
          1,
          3,
          1,
          1,
          2,
          1,
          1,
          1,
          1,
          1,
          1,
          1,
          1,
          4,
          1,
          1,
          1,
          1,
          1,
          1,
          6,
          1,
          1,
          1,
          2,
          0,
          1,
          2,
          1,
          2,
          1,
          1,
          1,
          1,
          1,
          2,
          2,
          1,
          2,
          1,
          1,
          1,
          1,
          2,
          1,
          1,
          0,
          1,
          2,
          1,
          2,
          1,
          1,
          4,
          5,
          1,
          4,
          1,
          4,
          1,
          4,
          1,
          2,
          1,
          1,
          1,
          2,
          1,
          1,
          1,
          1,
          1,
          3,
          1,
          1,
          1,
          7,
          -1,
          2,
          0,
          1,
          3,
          1,
          1,
          1,
          1,
          1,
          1,
          8,
          2,
          1,
          7,
          9,
          1,
          1,
          -2,
          1,
          1,
          2,
          0,
          4,
          1,
          5,
          2,
          3,
          1,
          7,
          1,
          1,
          5,
          3,
          1,
          -2,
          2,
          1,
          5,
          4,
          1,
          1,
          6,
          5,
          1,
          3,
          3,
          3,
          5,
          0,
          1,
          4,
          2,
          1,
          1,
          1,
          7,
          1,
          1,
          1,
          0,
          2,
          1,
          1,
          5,
          1,
          1,
          1,
          1,
          3,
          1,
          1,
          1,
          1,
          1,
          1,
          1,
          1,
          1,
          4,
          3,
          1,
          1,
          -1,
          1,
          1,
          5,
          1,
          2,
          1,
          1,
          1,
          1,
          1,
          5,
          1,
          1,
          3,
          2,
          1,
          1,
          1,
          3,
          1,
          1,
          1,
          1,
          2,
          11,
          1,
          6,
          1,
          4,
          1,
          1,
          1,
          11,
          4,
          3,
          1,
          2,
          1,
          1,
          7,
          1,
          1,
          1,
          1,
          1,
          2,
          5,
          1,
          2,
          1,
          1,
          1,
          1,
          3,
          1,
          4,
          2,
          2,
          1,
          1,
          1,
          1,
          1,
          1,
          1,
          1,
          7,
          5,
          1,
          2,
          1,
          1,
          1,
          1,
          2,
          1,
          6,
          5,
          1,
          1,
          5,
          7,
          4,
          1,
          1,
          1,
          8,
          2,
          1,
          4,
          2,
          1,
          5,
          1,
          1,
          1,
          2,
          0,
          1,
          1,
          1,
          1,
          1,
          1,
          1,
          3,
          1,
          1,
          1,
          7,
          2,
          2,
          0,
          1,
          1,
          2,
          1,
          1,
          1,
          15,
          12,
          13,
          7,
          1,
          2,
          2,
          2,
          1,
          1,
          3,
          1,
          2,
          4,
          1,
          1,
          1,
          1,
          1,
          1,
          1,
          1,
          1,
          3,
          5,
          3,
          1,
          1,
          1,
          2,
          2,
          1,
          4,
          1,
          5,
          -2,
          2,
          1,
          2,
          2,
          1,
          3,
          5,
          2,
          1,
          1,
          4,
          2,
          1,
          1,
          1,
          0,
          1,
          1,
          1,
          1,
          1,
          0,
          1,
          2,
          1,
          6,
          2,
          6,
          1,
          1,
          -1,
          0,
          4,
          2,
          6,
          1,
          1,
          2,
          2,
          1,
          2,
          10,
          1,
          1,
          2,
          2,
          3,
          0,
          1,
          1,
          0,
          1,
          6,
          3,
          2,
          1,
          5,
          1,
          0,
          1,
          1,
          1,
          1,
          1,
          1,
          2,
          1,
          2,
          1,
          1,
          2,
          1,
          2,
          5,
          0,
          1,
          1,
          1,
          1,
          2,
          2,
          2,
          1,
          4,
          1,
          2,
          2,
          2,
          3,
          1,
          1,
          2,
          1,
          1,
          1,
          1,
          1,
          2,
          4,
          1,
          1,
          2,
          4,
          2,
          1,
          1,
          1,
          1,
          4,
          1,
          1,
          1,
          2,
          1,
          -1,
          5,
          1,
          1,
          1,
          1,
          1,
          2,
          3,
          9,
          1,
          3,
          4,
          1,
          5,
          1,
          4,
          1,
          1,
          2,
          1,
          1,
          1,
          1,
          1,
          1,
          1,
          1,
          1,
          1,
          -1,
          2,
          1,
          2,
          -1,
          1,
          1,
          3,
          1,
          2,
          1,
          1,
          3,
          1,
          3,
          1,
          1,
          4,
          4,
          1,
          1,
          1,
          1,
          2,
          2,
          2,
          1,
          1,
          3,
          1,
          3,
          1,
          1,
          3,
          1,
          1,
          4,
          7,
          2,
          2,
          2,
          1,
          4,
          11,
          3,
          1,
          5,
          2,
          2,
          5,
          1,
          1,
          1,
          2,
          1,
          2,
          1,
          1,
          1,
          1,
          1,
          1,
          5,
          2,
          4,
          1,
          2,
          1,
          6,
          1,
          4,
          1,
          8,
          3,
          1,
          1,
          6,
          4,
          7,
          12,
          1,
          1,
          3,
          8,
          2,
          1,
          1,
          2,
          1,
          4,
          7,
          2,
          7,
          0,
          1,
          1,
          3,
          1,
          1,
          3,
          1,
          2,
          2,
          3,
          1,
          2,
          2,
          1,
          1,
          3,
          1,
          6,
          2,
          1,
          1,
          -3,
          0,
          2,
          5,
          4,
          3,
          1,
          10,
          4,
          0,
          -1,
          2,
          1,
          3,
          1,
          2,
          2,
          2,
          4,
          5,
          1,
          1,
          3,
          -1,
          3,
          1,
          1,
          0,
          1,
          8,
          3,
          1,
          1,
          1,
          1,
          1,
          1,
          1,
          2,
          1,
          1,
          0,
          1,
          -7,
          1,
          4,
          1,
          1,
          2,
          3,
          2,
          4,
          1,
          3,
          1,
          1,
          1,
          0,
          1,
          2,
          1,
          2,
          1,
          1,
          1,
          1,
          1,
          1,
          1,
          1,
          3,
          1,
          1,
          1,
          2,
          3,
          1,
          1,
          1,
          6,
          1,
          1,
          2,
          1,
          3,
          -2,
          3,
          1,
          1,
          1,
          1,
          2,
          7,
          1,
          1,
          2,
          2,
          2,
          1,
          3,
          1,
          1,
          1,
          1,
          1,
          5,
          5,
          2,
          1,
          1,
          3,
          1,
          2,
          -2,
          1,
          1,
          6,
          6,
          4,
          2,
          3,
          4,
          2,
          6,
          1,
          3,
          1,
          1,
          2,
          1,
          3,
          1,
          1,
          1,
          2,
          1,
          2,
          5,
          6,
          3,
          3,
          6,
          1,
          2,
          1,
          2,
          1,
          2,
          1,
          2,
          0,
          1,
          0,
          3,
          6,
          1,
          0,
          8,
          1,
          4,
          1,
          1,
          6,
          4,
          5,
          1,
          3,
          0,
          6,
          4,
          2,
          46,
          2,
          1,
          1,
          2,
          2,
          1,
          1,
          1,
          1,
          2,
          6,
          2,
          2,
          15,
          2,
          1,
          3,
          1,
          1,
          1,
          3,
          3,
          1,
          1,
          4,
          2,
          2,
          4,
          1,
          1,
          3,
          7,
          1,
          0,
          1,
          1,
          1,
          6,
          4,
          3,
          2,
          4,
          1,
          1,
          1,
          3,
          6,
          -5,
          1,
          1,
          2,
          1,
          1,
          4,
          4,
          1,
          1,
          1
         ],
         "x0": " ",
         "xaxis": "x",
         "y0": " ",
         "yaxis": "y"
        }
       ],
       "layout": {
        "boxmode": "group",
        "legend": {
         "tracegroupgap": 0
        },
        "margin": {
         "t": 60
        },
        "template": {
         "data": {
          "bar": [
           {
            "error_x": {
             "color": "#2a3f5f"
            },
            "error_y": {
             "color": "#2a3f5f"
            },
            "marker": {
             "line": {
              "color": "#E5ECF6",
              "width": 0.5
             }
            },
            "type": "bar"
           }
          ],
          "barpolar": [
           {
            "marker": {
             "line": {
              "color": "#E5ECF6",
              "width": 0.5
             }
            },
            "type": "barpolar"
           }
          ],
          "carpet": [
           {
            "aaxis": {
             "endlinecolor": "#2a3f5f",
             "gridcolor": "white",
             "linecolor": "white",
             "minorgridcolor": "white",
             "startlinecolor": "#2a3f5f"
            },
            "baxis": {
             "endlinecolor": "#2a3f5f",
             "gridcolor": "white",
             "linecolor": "white",
             "minorgridcolor": "white",
             "startlinecolor": "#2a3f5f"
            },
            "type": "carpet"
           }
          ],
          "choropleth": [
           {
            "colorbar": {
             "outlinewidth": 0,
             "ticks": ""
            },
            "type": "choropleth"
           }
          ],
          "contour": [
           {
            "colorbar": {
             "outlinewidth": 0,
             "ticks": ""
            },
            "colorscale": [
             [
              0,
              "#0d0887"
             ],
             [
              0.1111111111111111,
              "#46039f"
             ],
             [
              0.2222222222222222,
              "#7201a8"
             ],
             [
              0.3333333333333333,
              "#9c179e"
             ],
             [
              0.4444444444444444,
              "#bd3786"
             ],
             [
              0.5555555555555556,
              "#d8576b"
             ],
             [
              0.6666666666666666,
              "#ed7953"
             ],
             [
              0.7777777777777778,
              "#fb9f3a"
             ],
             [
              0.8888888888888888,
              "#fdca26"
             ],
             [
              1,
              "#f0f921"
             ]
            ],
            "type": "contour"
           }
          ],
          "contourcarpet": [
           {
            "colorbar": {
             "outlinewidth": 0,
             "ticks": ""
            },
            "type": "contourcarpet"
           }
          ],
          "heatmap": [
           {
            "colorbar": {
             "outlinewidth": 0,
             "ticks": ""
            },
            "colorscale": [
             [
              0,
              "#0d0887"
             ],
             [
              0.1111111111111111,
              "#46039f"
             ],
             [
              0.2222222222222222,
              "#7201a8"
             ],
             [
              0.3333333333333333,
              "#9c179e"
             ],
             [
              0.4444444444444444,
              "#bd3786"
             ],
             [
              0.5555555555555556,
              "#d8576b"
             ],
             [
              0.6666666666666666,
              "#ed7953"
             ],
             [
              0.7777777777777778,
              "#fb9f3a"
             ],
             [
              0.8888888888888888,
              "#fdca26"
             ],
             [
              1,
              "#f0f921"
             ]
            ],
            "type": "heatmap"
           }
          ],
          "heatmapgl": [
           {
            "colorbar": {
             "outlinewidth": 0,
             "ticks": ""
            },
            "colorscale": [
             [
              0,
              "#0d0887"
             ],
             [
              0.1111111111111111,
              "#46039f"
             ],
             [
              0.2222222222222222,
              "#7201a8"
             ],
             [
              0.3333333333333333,
              "#9c179e"
             ],
             [
              0.4444444444444444,
              "#bd3786"
             ],
             [
              0.5555555555555556,
              "#d8576b"
             ],
             [
              0.6666666666666666,
              "#ed7953"
             ],
             [
              0.7777777777777778,
              "#fb9f3a"
             ],
             [
              0.8888888888888888,
              "#fdca26"
             ],
             [
              1,
              "#f0f921"
             ]
            ],
            "type": "heatmapgl"
           }
          ],
          "histogram": [
           {
            "marker": {
             "colorbar": {
              "outlinewidth": 0,
              "ticks": ""
             }
            },
            "type": "histogram"
           }
          ],
          "histogram2d": [
           {
            "colorbar": {
             "outlinewidth": 0,
             "ticks": ""
            },
            "colorscale": [
             [
              0,
              "#0d0887"
             ],
             [
              0.1111111111111111,
              "#46039f"
             ],
             [
              0.2222222222222222,
              "#7201a8"
             ],
             [
              0.3333333333333333,
              "#9c179e"
             ],
             [
              0.4444444444444444,
              "#bd3786"
             ],
             [
              0.5555555555555556,
              "#d8576b"
             ],
             [
              0.6666666666666666,
              "#ed7953"
             ],
             [
              0.7777777777777778,
              "#fb9f3a"
             ],
             [
              0.8888888888888888,
              "#fdca26"
             ],
             [
              1,
              "#f0f921"
             ]
            ],
            "type": "histogram2d"
           }
          ],
          "histogram2dcontour": [
           {
            "colorbar": {
             "outlinewidth": 0,
             "ticks": ""
            },
            "colorscale": [
             [
              0,
              "#0d0887"
             ],
             [
              0.1111111111111111,
              "#46039f"
             ],
             [
              0.2222222222222222,
              "#7201a8"
             ],
             [
              0.3333333333333333,
              "#9c179e"
             ],
             [
              0.4444444444444444,
              "#bd3786"
             ],
             [
              0.5555555555555556,
              "#d8576b"
             ],
             [
              0.6666666666666666,
              "#ed7953"
             ],
             [
              0.7777777777777778,
              "#fb9f3a"
             ],
             [
              0.8888888888888888,
              "#fdca26"
             ],
             [
              1,
              "#f0f921"
             ]
            ],
            "type": "histogram2dcontour"
           }
          ],
          "mesh3d": [
           {
            "colorbar": {
             "outlinewidth": 0,
             "ticks": ""
            },
            "type": "mesh3d"
           }
          ],
          "parcoords": [
           {
            "line": {
             "colorbar": {
              "outlinewidth": 0,
              "ticks": ""
             }
            },
            "type": "parcoords"
           }
          ],
          "pie": [
           {
            "automargin": true,
            "type": "pie"
           }
          ],
          "scatter": [
           {
            "marker": {
             "colorbar": {
              "outlinewidth": 0,
              "ticks": ""
             }
            },
            "type": "scatter"
           }
          ],
          "scatter3d": [
           {
            "line": {
             "colorbar": {
              "outlinewidth": 0,
              "ticks": ""
             }
            },
            "marker": {
             "colorbar": {
              "outlinewidth": 0,
              "ticks": ""
             }
            },
            "type": "scatter3d"
           }
          ],
          "scattercarpet": [
           {
            "marker": {
             "colorbar": {
              "outlinewidth": 0,
              "ticks": ""
             }
            },
            "type": "scattercarpet"
           }
          ],
          "scattergeo": [
           {
            "marker": {
             "colorbar": {
              "outlinewidth": 0,
              "ticks": ""
             }
            },
            "type": "scattergeo"
           }
          ],
          "scattergl": [
           {
            "marker": {
             "colorbar": {
              "outlinewidth": 0,
              "ticks": ""
             }
            },
            "type": "scattergl"
           }
          ],
          "scattermapbox": [
           {
            "marker": {
             "colorbar": {
              "outlinewidth": 0,
              "ticks": ""
             }
            },
            "type": "scattermapbox"
           }
          ],
          "scatterpolar": [
           {
            "marker": {
             "colorbar": {
              "outlinewidth": 0,
              "ticks": ""
             }
            },
            "type": "scatterpolar"
           }
          ],
          "scatterpolargl": [
           {
            "marker": {
             "colorbar": {
              "outlinewidth": 0,
              "ticks": ""
             }
            },
            "type": "scatterpolargl"
           }
          ],
          "scatterternary": [
           {
            "marker": {
             "colorbar": {
              "outlinewidth": 0,
              "ticks": ""
             }
            },
            "type": "scatterternary"
           }
          ],
          "surface": [
           {
            "colorbar": {
             "outlinewidth": 0,
             "ticks": ""
            },
            "colorscale": [
             [
              0,
              "#0d0887"
             ],
             [
              0.1111111111111111,
              "#46039f"
             ],
             [
              0.2222222222222222,
              "#7201a8"
             ],
             [
              0.3333333333333333,
              "#9c179e"
             ],
             [
              0.4444444444444444,
              "#bd3786"
             ],
             [
              0.5555555555555556,
              "#d8576b"
             ],
             [
              0.6666666666666666,
              "#ed7953"
             ],
             [
              0.7777777777777778,
              "#fb9f3a"
             ],
             [
              0.8888888888888888,
              "#fdca26"
             ],
             [
              1,
              "#f0f921"
             ]
            ],
            "type": "surface"
           }
          ],
          "table": [
           {
            "cells": {
             "fill": {
              "color": "#EBF0F8"
             },
             "line": {
              "color": "white"
             }
            },
            "header": {
             "fill": {
              "color": "#C8D4E3"
             },
             "line": {
              "color": "white"
             }
            },
            "type": "table"
           }
          ]
         },
         "layout": {
          "annotationdefaults": {
           "arrowcolor": "#2a3f5f",
           "arrowhead": 0,
           "arrowwidth": 1
          },
          "autotypenumbers": "strict",
          "coloraxis": {
           "colorbar": {
            "outlinewidth": 0,
            "ticks": ""
           }
          },
          "colorscale": {
           "diverging": [
            [
             0,
             "#8e0152"
            ],
            [
             0.1,
             "#c51b7d"
            ],
            [
             0.2,
             "#de77ae"
            ],
            [
             0.3,
             "#f1b6da"
            ],
            [
             0.4,
             "#fde0ef"
            ],
            [
             0.5,
             "#f7f7f7"
            ],
            [
             0.6,
             "#e6f5d0"
            ],
            [
             0.7,
             "#b8e186"
            ],
            [
             0.8,
             "#7fbc41"
            ],
            [
             0.9,
             "#4d9221"
            ],
            [
             1,
             "#276419"
            ]
           ],
           "sequential": [
            [
             0,
             "#0d0887"
            ],
            [
             0.1111111111111111,
             "#46039f"
            ],
            [
             0.2222222222222222,
             "#7201a8"
            ],
            [
             0.3333333333333333,
             "#9c179e"
            ],
            [
             0.4444444444444444,
             "#bd3786"
            ],
            [
             0.5555555555555556,
             "#d8576b"
            ],
            [
             0.6666666666666666,
             "#ed7953"
            ],
            [
             0.7777777777777778,
             "#fb9f3a"
            ],
            [
             0.8888888888888888,
             "#fdca26"
            ],
            [
             1,
             "#f0f921"
            ]
           ],
           "sequentialminus": [
            [
             0,
             "#0d0887"
            ],
            [
             0.1111111111111111,
             "#46039f"
            ],
            [
             0.2222222222222222,
             "#7201a8"
            ],
            [
             0.3333333333333333,
             "#9c179e"
            ],
            [
             0.4444444444444444,
             "#bd3786"
            ],
            [
             0.5555555555555556,
             "#d8576b"
            ],
            [
             0.6666666666666666,
             "#ed7953"
            ],
            [
             0.7777777777777778,
             "#fb9f3a"
            ],
            [
             0.8888888888888888,
             "#fdca26"
            ],
            [
             1,
             "#f0f921"
            ]
           ]
          },
          "colorway": [
           "#636efa",
           "#EF553B",
           "#00cc96",
           "#ab63fa",
           "#FFA15A",
           "#19d3f3",
           "#FF6692",
           "#B6E880",
           "#FF97FF",
           "#FECB52"
          ],
          "font": {
           "color": "#2a3f5f"
          },
          "geo": {
           "bgcolor": "white",
           "lakecolor": "white",
           "landcolor": "#E5ECF6",
           "showlakes": true,
           "showland": true,
           "subunitcolor": "white"
          },
          "hoverlabel": {
           "align": "left"
          },
          "hovermode": "closest",
          "mapbox": {
           "style": "light"
          },
          "paper_bgcolor": "white",
          "plot_bgcolor": "#E5ECF6",
          "polar": {
           "angularaxis": {
            "gridcolor": "white",
            "linecolor": "white",
            "ticks": ""
           },
           "bgcolor": "#E5ECF6",
           "radialaxis": {
            "gridcolor": "white",
            "linecolor": "white",
            "ticks": ""
           }
          },
          "scene": {
           "xaxis": {
            "backgroundcolor": "#E5ECF6",
            "gridcolor": "white",
            "gridwidth": 2,
            "linecolor": "white",
            "showbackground": true,
            "ticks": "",
            "zerolinecolor": "white"
           },
           "yaxis": {
            "backgroundcolor": "#E5ECF6",
            "gridcolor": "white",
            "gridwidth": 2,
            "linecolor": "white",
            "showbackground": true,
            "ticks": "",
            "zerolinecolor": "white"
           },
           "zaxis": {
            "backgroundcolor": "#E5ECF6",
            "gridcolor": "white",
            "gridwidth": 2,
            "linecolor": "white",
            "showbackground": true,
            "ticks": "",
            "zerolinecolor": "white"
           }
          },
          "shapedefaults": {
           "line": {
            "color": "#2a3f5f"
           }
          },
          "ternary": {
           "aaxis": {
            "gridcolor": "white",
            "linecolor": "white",
            "ticks": ""
           },
           "baxis": {
            "gridcolor": "white",
            "linecolor": "white",
            "ticks": ""
           },
           "bgcolor": "#E5ECF6",
           "caxis": {
            "gridcolor": "white",
            "linecolor": "white",
            "ticks": ""
           }
          },
          "title": {
           "x": 0.05
          },
          "xaxis": {
           "automargin": true,
           "gridcolor": "white",
           "linecolor": "white",
           "ticks": "",
           "title": {
            "standoff": 15
           },
           "zerolinecolor": "white",
           "zerolinewidth": 2
          },
          "yaxis": {
           "automargin": true,
           "gridcolor": "white",
           "linecolor": "white",
           "ticks": "",
           "title": {
            "standoff": 15
           },
           "zerolinecolor": "white",
           "zerolinewidth": 2
          }
         }
        },
        "xaxis": {
         "anchor": "y",
         "domain": [
          0,
          1
         ],
         "title": {
          "text": "score"
         }
        },
        "yaxis": {
         "anchor": "x",
         "domain": [
          0,
          1
         ]
        }
       }
      },
      "text/html": [
       "<div>                            <div id=\"4abc0aaf-ebb5-453b-ac3d-1852e30a780d\" class=\"plotly-graph-div\" style=\"height:525px; width:100%;\"></div>            <script type=\"text/javascript\">                require([\"plotly\"], function(Plotly) {                    window.PLOTLYENV=window.PLOTLYENV || {};                                    if (document.getElementById(\"4abc0aaf-ebb5-453b-ac3d-1852e30a780d\")) {                    Plotly.newPlot(                        \"4abc0aaf-ebb5-453b-ac3d-1852e30a780d\",                        [{\"alignmentgroup\": \"True\", \"hovertemplate\": \"score=%{x}<extra></extra>\", \"legendgroup\": \"\", \"marker\": {\"color\": \"#636efa\"}, \"name\": \"\", \"notched\": false, \"offsetgroup\": \"\", \"orientation\": \"h\", \"showlegend\": false, \"type\": \"box\", \"x\": [1, 1, 1, 4, 5, 0, 1, 0, 0, 2, 1, 1, 2, 12, 57, 16, 15, 45, 0, 1, 0, 0, 1, 11, 0, 29, 5, 4, 0, 9, 0, 2, 11, 7, 7, 113, 5, 221, 21, 4, 13, 26, 5, 26, 297, 38, 8, 10, 3, 13, 8, 1, 8, 14, 3, 43, 8, 5, 34, 0, 0, 0, 13, 18, 3900, 16, 6, 0, 39, 0, 0, 3, 1, 21, 0, 3, 0, 74, 19, 4, 0, 0, 19, 8, 1, 0, 5, 81, 9, 9, 0, 0, 5, 0, 13, 0, 8, 18, 6, 7, 5, 0, 4, 41, 7, 67, 8, 5, 0, 13, 63, 17, 0, 18, 13, 64, 6, 23, 2, 12, 0, 15, 0, 494, 1, 8, 3, 1, 18, 0, 10, 1, 3, 7, 13, 3, 2, 2, 21, 10, 9, 3, 5, 17, 1, 10, 31, 49, 2, 37, 259, 6, 5, 875, 22, 11, 10, 298, 16, 7, 3, 19, 10, 12, 340, 3, 0, 0, 42, 321, 55, 11, 4, 41, 10, 247, 13, 10, 0, 10, 7, 22, 47, 0, 8, 3, 123, 34, 129, 21, 17, 76, 337, 17, 16, 13, 21, 7909, 9, 116, 0, 183, 2, 13, 2, 47, 1, 2, 473, 4, 3, 0, 41, 4, 9, 3, 0, 3, 0, 5, 48, 278, 13, 2, 41, 24, 0, 20, 20, 18, 10, 36, 5099, 12, 10, 19, 15, 4, 44, 51, 0, 87, 23, 0, 7, 75, 10, 0, 4, 0, 137, 2, 34, 53, 0, 327, 0, 78, 0, 4, 0, 0, 22, 0, 6, 15, 1, 8, 463, 12, 2, 722, 0, 53, 21, 0, 0, 28, 1, 1, 1, 1, 1, 1, 1, 1, 1, 1, 1, 1, 1, 1, 1, 1, 1, 1, 1, 1, 1, 1, 1, 1, 1, 1, 1, 1, 1, 1, 0, 1, 1, 1, 1, 1, 1, 1, 1, 2, 1, 1, 1, 1, 1, 2, 1, 3, 1, 4, 1, 1, 1, 1, 1, 1, 1, 1, 1, 1, 0, 1, 1, 1, 1, 1, 1, 3, 1, 1, 0, 1, 5, 1, 1, 2, 1, 1, 1, 4, 2, 1, 3, 5, 1, 2, 1, 1, 1, 0, 1, 2, 2, 1, 1, 2, 1, 2, 1, 1, 1, 1, 1, 5, 1, 1, 1, 2, 1, 1, 1, 1, 1, 3, 2, 2, 1, 1, 1, 1, 12, 0, 2, 1, 1, 1, -2, 1, 2, -2, 1, 1, 1, 5, 6, 1, 1, 2, 1, 3, 1, 2, 4, 1, 1, 0, -1, -1, 1, 1, 0, 1, 1, 1, 1, 4, 1, 1, 1, 6, 1, 1, 0, 6, 1, 3, 2, 2, 1, 1, 3, 1, 2, 0, 1, 1, 3, 1, 1, 2, 1, 1, 1, 1, 1, 1, 1, 1, 4, 1, 1, 1, 1, 1, 1, 6, 1, 1, 1, 2, 0, 1, 2, 1, 2, 1, 1, 1, 1, 1, 2, 2, 1, 2, 1, 1, 1, 1, 2, 1, 1, 0, 1, 2, 1, 2, 1, 1, 4, 5, 1, 4, 1, 4, 1, 4, 1, 2, 1, 1, 1, 2, 1, 1, 1, 1, 1, 3, 1, 1, 1, 7, -1, 2, 0, 1, 3, 1, 1, 1, 1, 1, 1, 8, 2, 1, 7, 9, 1, 1, -2, 1, 1, 2, 0, 4, 1, 5, 2, 3, 1, 7, 1, 1, 5, 3, 1, -2, 2, 1, 5, 4, 1, 1, 6, 5, 1, 3, 3, 3, 5, 0, 1, 4, 2, 1, 1, 1, 7, 1, 1, 1, 0, 2, 1, 1, 5, 1, 1, 1, 1, 3, 1, 1, 1, 1, 1, 1, 1, 1, 1, 4, 3, 1, 1, -1, 1, 1, 5, 1, 2, 1, 1, 1, 1, 1, 5, 1, 1, 3, 2, 1, 1, 1, 3, 1, 1, 1, 1, 2, 11, 1, 6, 1, 4, 1, 1, 1, 11, 4, 3, 1, 2, 1, 1, 7, 1, 1, 1, 1, 1, 2, 5, 1, 2, 1, 1, 1, 1, 3, 1, 4, 2, 2, 1, 1, 1, 1, 1, 1, 1, 1, 7, 5, 1, 2, 1, 1, 1, 1, 2, 1, 6, 5, 1, 1, 5, 7, 4, 1, 1, 1, 8, 2, 1, 4, 2, 1, 5, 1, 1, 1, 2, 0, 1, 1, 1, 1, 1, 1, 1, 3, 1, 1, 1, 7, 2, 2, 0, 1, 1, 2, 1, 1, 1, 15, 12, 13, 7, 1, 2, 2, 2, 1, 1, 3, 1, 2, 4, 1, 1, 1, 1, 1, 1, 1, 1, 1, 3, 5, 3, 1, 1, 1, 2, 2, 1, 4, 1, 5, -2, 2, 1, 2, 2, 1, 3, 5, 2, 1, 1, 4, 2, 1, 1, 1, 0, 1, 1, 1, 1, 1, 0, 1, 2, 1, 6, 2, 6, 1, 1, -1, 0, 4, 2, 6, 1, 1, 2, 2, 1, 2, 10, 1, 1, 2, 2, 3, 0, 1, 1, 0, 1, 6, 3, 2, 1, 5, 1, 0, 1, 1, 1, 1, 1, 1, 2, 1, 2, 1, 1, 2, 1, 2, 5, 0, 1, 1, 1, 1, 2, 2, 2, 1, 4, 1, 2, 2, 2, 3, 1, 1, 2, 1, 1, 1, 1, 1, 2, 4, 1, 1, 2, 4, 2, 1, 1, 1, 1, 4, 1, 1, 1, 2, 1, -1, 5, 1, 1, 1, 1, 1, 2, 3, 9, 1, 3, 4, 1, 5, 1, 4, 1, 1, 2, 1, 1, 1, 1, 1, 1, 1, 1, 1, 1, -1, 2, 1, 2, -1, 1, 1, 3, 1, 2, 1, 1, 3, 1, 3, 1, 1, 4, 4, 1, 1, 1, 1, 2, 2, 2, 1, 1, 3, 1, 3, 1, 1, 3, 1, 1, 4, 7, 2, 2, 2, 1, 4, 11, 3, 1, 5, 2, 2, 5, 1, 1, 1, 2, 1, 2, 1, 1, 1, 1, 1, 1, 5, 2, 4, 1, 2, 1, 6, 1, 4, 1, 8, 3, 1, 1, 6, 4, 7, 12, 1, 1, 3, 8, 2, 1, 1, 2, 1, 4, 7, 2, 7, 0, 1, 1, 3, 1, 1, 3, 1, 2, 2, 3, 1, 2, 2, 1, 1, 3, 1, 6, 2, 1, 1, -3, 0, 2, 5, 4, 3, 1, 10, 4, 0, -1, 2, 1, 3, 1, 2, 2, 2, 4, 5, 1, 1, 3, -1, 3, 1, 1, 0, 1, 8, 3, 1, 1, 1, 1, 1, 1, 1, 2, 1, 1, 0, 1, -7, 1, 4, 1, 1, 2, 3, 2, 4, 1, 3, 1, 1, 1, 0, 1, 2, 1, 2, 1, 1, 1, 1, 1, 1, 1, 1, 3, 1, 1, 1, 2, 3, 1, 1, 1, 6, 1, 1, 2, 1, 3, -2, 3, 1, 1, 1, 1, 2, 7, 1, 1, 2, 2, 2, 1, 3, 1, 1, 1, 1, 1, 5, 5, 2, 1, 1, 3, 1, 2, -2, 1, 1, 6, 6, 4, 2, 3, 4, 2, 6, 1, 3, 1, 1, 2, 1, 3, 1, 1, 1, 2, 1, 2, 5, 6, 3, 3, 6, 1, 2, 1, 2, 1, 2, 1, 2, 0, 1, 0, 3, 6, 1, 0, 8, 1, 4, 1, 1, 6, 4, 5, 1, 3, 0, 6, 4, 2, 46, 2, 1, 1, 2, 2, 1, 1, 1, 1, 2, 6, 2, 2, 15, 2, 1, 3, 1, 1, 1, 3, 3, 1, 1, 4, 2, 2, 4, 1, 1, 3, 7, 1, 0, 1, 1, 1, 6, 4, 3, 2, 4, 1, 1, 1, 3, 6, -5, 1, 1, 2, 1, 1, 4, 4, 1, 1, 1], \"x0\": \" \", \"xaxis\": \"x\", \"y0\": \" \", \"yaxis\": \"y\"}],                        {\"boxmode\": \"group\", \"legend\": {\"tracegroupgap\": 0}, \"margin\": {\"t\": 60}, \"template\": {\"data\": {\"bar\": [{\"error_x\": {\"color\": \"#2a3f5f\"}, \"error_y\": {\"color\": \"#2a3f5f\"}, \"marker\": {\"line\": {\"color\": \"#E5ECF6\", \"width\": 0.5}}, \"type\": \"bar\"}], \"barpolar\": [{\"marker\": {\"line\": {\"color\": \"#E5ECF6\", \"width\": 0.5}}, \"type\": \"barpolar\"}], \"carpet\": [{\"aaxis\": {\"endlinecolor\": \"#2a3f5f\", \"gridcolor\": \"white\", \"linecolor\": \"white\", \"minorgridcolor\": \"white\", \"startlinecolor\": \"#2a3f5f\"}, \"baxis\": {\"endlinecolor\": \"#2a3f5f\", \"gridcolor\": \"white\", \"linecolor\": \"white\", \"minorgridcolor\": \"white\", \"startlinecolor\": \"#2a3f5f\"}, \"type\": \"carpet\"}], \"choropleth\": [{\"colorbar\": {\"outlinewidth\": 0, \"ticks\": \"\"}, \"type\": \"choropleth\"}], \"contour\": [{\"colorbar\": {\"outlinewidth\": 0, \"ticks\": \"\"}, \"colorscale\": [[0.0, \"#0d0887\"], [0.1111111111111111, \"#46039f\"], [0.2222222222222222, \"#7201a8\"], [0.3333333333333333, \"#9c179e\"], [0.4444444444444444, \"#bd3786\"], [0.5555555555555556, \"#d8576b\"], [0.6666666666666666, \"#ed7953\"], [0.7777777777777778, \"#fb9f3a\"], [0.8888888888888888, \"#fdca26\"], [1.0, \"#f0f921\"]], \"type\": \"contour\"}], \"contourcarpet\": [{\"colorbar\": {\"outlinewidth\": 0, \"ticks\": \"\"}, \"type\": \"contourcarpet\"}], \"heatmap\": [{\"colorbar\": {\"outlinewidth\": 0, \"ticks\": \"\"}, \"colorscale\": [[0.0, \"#0d0887\"], [0.1111111111111111, \"#46039f\"], [0.2222222222222222, \"#7201a8\"], [0.3333333333333333, \"#9c179e\"], [0.4444444444444444, \"#bd3786\"], [0.5555555555555556, \"#d8576b\"], [0.6666666666666666, \"#ed7953\"], [0.7777777777777778, \"#fb9f3a\"], [0.8888888888888888, \"#fdca26\"], [1.0, \"#f0f921\"]], \"type\": \"heatmap\"}], \"heatmapgl\": [{\"colorbar\": {\"outlinewidth\": 0, \"ticks\": \"\"}, \"colorscale\": [[0.0, \"#0d0887\"], [0.1111111111111111, \"#46039f\"], [0.2222222222222222, \"#7201a8\"], [0.3333333333333333, \"#9c179e\"], [0.4444444444444444, \"#bd3786\"], [0.5555555555555556, \"#d8576b\"], [0.6666666666666666, \"#ed7953\"], [0.7777777777777778, \"#fb9f3a\"], [0.8888888888888888, \"#fdca26\"], [1.0, \"#f0f921\"]], \"type\": \"heatmapgl\"}], \"histogram\": [{\"marker\": {\"colorbar\": {\"outlinewidth\": 0, \"ticks\": \"\"}}, \"type\": \"histogram\"}], \"histogram2d\": [{\"colorbar\": {\"outlinewidth\": 0, \"ticks\": \"\"}, \"colorscale\": [[0.0, \"#0d0887\"], [0.1111111111111111, \"#46039f\"], [0.2222222222222222, \"#7201a8\"], [0.3333333333333333, \"#9c179e\"], [0.4444444444444444, \"#bd3786\"], [0.5555555555555556, \"#d8576b\"], [0.6666666666666666, \"#ed7953\"], [0.7777777777777778, \"#fb9f3a\"], [0.8888888888888888, \"#fdca26\"], [1.0, \"#f0f921\"]], \"type\": \"histogram2d\"}], \"histogram2dcontour\": [{\"colorbar\": {\"outlinewidth\": 0, \"ticks\": \"\"}, \"colorscale\": [[0.0, \"#0d0887\"], [0.1111111111111111, \"#46039f\"], [0.2222222222222222, \"#7201a8\"], [0.3333333333333333, \"#9c179e\"], [0.4444444444444444, \"#bd3786\"], [0.5555555555555556, \"#d8576b\"], [0.6666666666666666, \"#ed7953\"], [0.7777777777777778, \"#fb9f3a\"], [0.8888888888888888, \"#fdca26\"], [1.0, \"#f0f921\"]], \"type\": \"histogram2dcontour\"}], \"mesh3d\": [{\"colorbar\": {\"outlinewidth\": 0, \"ticks\": \"\"}, \"type\": \"mesh3d\"}], \"parcoords\": [{\"line\": {\"colorbar\": {\"outlinewidth\": 0, \"ticks\": \"\"}}, \"type\": \"parcoords\"}], \"pie\": [{\"automargin\": true, \"type\": \"pie\"}], \"scatter\": [{\"marker\": {\"colorbar\": {\"outlinewidth\": 0, \"ticks\": \"\"}}, \"type\": \"scatter\"}], \"scatter3d\": [{\"line\": {\"colorbar\": {\"outlinewidth\": 0, \"ticks\": \"\"}}, \"marker\": {\"colorbar\": {\"outlinewidth\": 0, \"ticks\": \"\"}}, \"type\": \"scatter3d\"}], \"scattercarpet\": [{\"marker\": {\"colorbar\": {\"outlinewidth\": 0, \"ticks\": \"\"}}, \"type\": \"scattercarpet\"}], \"scattergeo\": [{\"marker\": {\"colorbar\": {\"outlinewidth\": 0, \"ticks\": \"\"}}, \"type\": \"scattergeo\"}], \"scattergl\": [{\"marker\": {\"colorbar\": {\"outlinewidth\": 0, \"ticks\": \"\"}}, \"type\": \"scattergl\"}], \"scattermapbox\": [{\"marker\": {\"colorbar\": {\"outlinewidth\": 0, \"ticks\": \"\"}}, \"type\": \"scattermapbox\"}], \"scatterpolar\": [{\"marker\": {\"colorbar\": {\"outlinewidth\": 0, \"ticks\": \"\"}}, \"type\": \"scatterpolar\"}], \"scatterpolargl\": [{\"marker\": {\"colorbar\": {\"outlinewidth\": 0, \"ticks\": \"\"}}, \"type\": \"scatterpolargl\"}], \"scatterternary\": [{\"marker\": {\"colorbar\": {\"outlinewidth\": 0, \"ticks\": \"\"}}, \"type\": \"scatterternary\"}], \"surface\": [{\"colorbar\": {\"outlinewidth\": 0, \"ticks\": \"\"}, \"colorscale\": [[0.0, \"#0d0887\"], [0.1111111111111111, \"#46039f\"], [0.2222222222222222, \"#7201a8\"], [0.3333333333333333, \"#9c179e\"], [0.4444444444444444, \"#bd3786\"], [0.5555555555555556, \"#d8576b\"], [0.6666666666666666, \"#ed7953\"], [0.7777777777777778, \"#fb9f3a\"], [0.8888888888888888, \"#fdca26\"], [1.0, \"#f0f921\"]], \"type\": \"surface\"}], \"table\": [{\"cells\": {\"fill\": {\"color\": \"#EBF0F8\"}, \"line\": {\"color\": \"white\"}}, \"header\": {\"fill\": {\"color\": \"#C8D4E3\"}, \"line\": {\"color\": \"white\"}}, \"type\": \"table\"}]}, \"layout\": {\"annotationdefaults\": {\"arrowcolor\": \"#2a3f5f\", \"arrowhead\": 0, \"arrowwidth\": 1}, \"autotypenumbers\": \"strict\", \"coloraxis\": {\"colorbar\": {\"outlinewidth\": 0, \"ticks\": \"\"}}, \"colorscale\": {\"diverging\": [[0, \"#8e0152\"], [0.1, \"#c51b7d\"], [0.2, \"#de77ae\"], [0.3, \"#f1b6da\"], [0.4, \"#fde0ef\"], [0.5, \"#f7f7f7\"], [0.6, \"#e6f5d0\"], [0.7, \"#b8e186\"], [0.8, \"#7fbc41\"], [0.9, \"#4d9221\"], [1, \"#276419\"]], \"sequential\": [[0.0, \"#0d0887\"], [0.1111111111111111, \"#46039f\"], [0.2222222222222222, \"#7201a8\"], [0.3333333333333333, \"#9c179e\"], [0.4444444444444444, \"#bd3786\"], [0.5555555555555556, \"#d8576b\"], [0.6666666666666666, \"#ed7953\"], [0.7777777777777778, \"#fb9f3a\"], [0.8888888888888888, \"#fdca26\"], [1.0, \"#f0f921\"]], \"sequentialminus\": [[0.0, \"#0d0887\"], [0.1111111111111111, \"#46039f\"], [0.2222222222222222, \"#7201a8\"], [0.3333333333333333, \"#9c179e\"], [0.4444444444444444, \"#bd3786\"], [0.5555555555555556, \"#d8576b\"], [0.6666666666666666, \"#ed7953\"], [0.7777777777777778, \"#fb9f3a\"], [0.8888888888888888, \"#fdca26\"], [1.0, \"#f0f921\"]]}, \"colorway\": [\"#636efa\", \"#EF553B\", \"#00cc96\", \"#ab63fa\", \"#FFA15A\", \"#19d3f3\", \"#FF6692\", \"#B6E880\", \"#FF97FF\", \"#FECB52\"], \"font\": {\"color\": \"#2a3f5f\"}, \"geo\": {\"bgcolor\": \"white\", \"lakecolor\": \"white\", \"landcolor\": \"#E5ECF6\", \"showlakes\": true, \"showland\": true, \"subunitcolor\": \"white\"}, \"hoverlabel\": {\"align\": \"left\"}, \"hovermode\": \"closest\", \"mapbox\": {\"style\": \"light\"}, \"paper_bgcolor\": \"white\", \"plot_bgcolor\": \"#E5ECF6\", \"polar\": {\"angularaxis\": {\"gridcolor\": \"white\", \"linecolor\": \"white\", \"ticks\": \"\"}, \"bgcolor\": \"#E5ECF6\", \"radialaxis\": {\"gridcolor\": \"white\", \"linecolor\": \"white\", \"ticks\": \"\"}}, \"scene\": {\"xaxis\": {\"backgroundcolor\": \"#E5ECF6\", \"gridcolor\": \"white\", \"gridwidth\": 2, \"linecolor\": \"white\", \"showbackground\": true, \"ticks\": \"\", \"zerolinecolor\": \"white\"}, \"yaxis\": {\"backgroundcolor\": \"#E5ECF6\", \"gridcolor\": \"white\", \"gridwidth\": 2, \"linecolor\": \"white\", \"showbackground\": true, \"ticks\": \"\", \"zerolinecolor\": \"white\"}, \"zaxis\": {\"backgroundcolor\": \"#E5ECF6\", \"gridcolor\": \"white\", \"gridwidth\": 2, \"linecolor\": \"white\", \"showbackground\": true, \"ticks\": \"\", \"zerolinecolor\": \"white\"}}, \"shapedefaults\": {\"line\": {\"color\": \"#2a3f5f\"}}, \"ternary\": {\"aaxis\": {\"gridcolor\": \"white\", \"linecolor\": \"white\", \"ticks\": \"\"}, \"baxis\": {\"gridcolor\": \"white\", \"linecolor\": \"white\", \"ticks\": \"\"}, \"bgcolor\": \"#E5ECF6\", \"caxis\": {\"gridcolor\": \"white\", \"linecolor\": \"white\", \"ticks\": \"\"}}, \"title\": {\"x\": 0.05}, \"xaxis\": {\"automargin\": true, \"gridcolor\": \"white\", \"linecolor\": \"white\", \"ticks\": \"\", \"title\": {\"standoff\": 15}, \"zerolinecolor\": \"white\", \"zerolinewidth\": 2}, \"yaxis\": {\"automargin\": true, \"gridcolor\": \"white\", \"linecolor\": \"white\", \"ticks\": \"\", \"title\": {\"standoff\": 15}, \"zerolinecolor\": \"white\", \"zerolinewidth\": 2}}}, \"xaxis\": {\"anchor\": \"y\", \"domain\": [0.0, 1.0], \"title\": {\"text\": \"score\"}}, \"yaxis\": {\"anchor\": \"x\", \"domain\": [0.0, 1.0]}},                        {\"responsive\": true}                    ).then(function(){\n",
       "                            \n",
       "var gd = document.getElementById('4abc0aaf-ebb5-453b-ac3d-1852e30a780d');\n",
       "var x = new MutationObserver(function (mutations, observer) {{\n",
       "        var display = window.getComputedStyle(gd).display;\n",
       "        if (!display || display === 'none') {{\n",
       "            console.log([gd, 'removed!']);\n",
       "            Plotly.purge(gd);\n",
       "            observer.disconnect();\n",
       "        }}\n",
       "}});\n",
       "\n",
       "// Listen for the removal of the full notebook cells\n",
       "var notebookContainer = gd.closest('#notebook-container');\n",
       "if (notebookContainer) {{\n",
       "    x.observe(notebookContainer, {childList: true});\n",
       "}}\n",
       "\n",
       "// Listen for the clearing of the current output cell\n",
       "var outputEl = gd.closest('.output');\n",
       "if (outputEl) {{\n",
       "    x.observe(outputEl, {childList: true});\n",
       "}}\n",
       "\n",
       "                        })                };                });            </script>        </div>"
      ]
     },
     "metadata": {},
     "output_type": "display_data"
    }
   ],
   "source": [
    "# visualize impact score\n",
    "fig2 = px.box(df.score, x='score')\n",
    "fig2.show()"
   ]
  },
  {
   "cell_type": "code",
   "execution_count": 17,
   "metadata": {},
   "outputs": [
    {
     "data": {
      "text/html": [
       "<div>\n",
       "<style scoped>\n",
       "    .dataframe tbody tr th:only-of-type {\n",
       "        vertical-align: middle;\n",
       "    }\n",
       "\n",
       "    .dataframe tbody tr th {\n",
       "        vertical-align: top;\n",
       "    }\n",
       "\n",
       "    .dataframe thead th {\n",
       "        text-align: right;\n",
       "    }\n",
       "</style>\n",
       "<table border=\"1\" class=\"dataframe\">\n",
       "  <thead>\n",
       "    <tr style=\"text-align: right;\">\n",
       "      <th></th>\n",
       "      <th>title</th>\n",
       "      <th>score</th>\n",
       "      <th>id</th>\n",
       "      <th>url</th>\n",
       "      <th>comms_num</th>\n",
       "      <th>created</th>\n",
       "      <th>body</th>\n",
       "      <th>timestamp</th>\n",
       "    </tr>\n",
       "  </thead>\n",
       "  <tbody>\n",
       "    <tr>\n",
       "      <th>47</th>\n",
       "      <td>MATCH will be the next stock to absolutely tan...</td>\n",
       "      <td>57</td>\n",
       "      <td>s9gqoc</td>\n",
       "      <td>https://www.reddit.com/r/wallstreetbets/commen...</td>\n",
       "      <td>65</td>\n",
       "      <td>1.642788e+09</td>\n",
       "      <td>Netflix just tanked 25% on earnings due to no ...</td>\n",
       "      <td>2022-01-21 10:00:44</td>\n",
       "    </tr>\n",
       "    <tr>\n",
       "      <th>153</th>\n",
       "      <td>The Fed is about to commit a disasterous polic...</td>\n",
       "      <td>113</td>\n",
       "      <td>s9c4u3</td>\n",
       "      <td>https://www.reddit.com/r/wallstreetbets/commen...</td>\n",
       "      <td>68</td>\n",
       "      <td>1.642776e+09</td>\n",
       "      <td>Long post warning, but there is a lot on my mi...</td>\n",
       "      <td>2022-01-21 06:36:26</td>\n",
       "    </tr>\n",
       "    <tr>\n",
       "      <th>157</th>\n",
       "      <td>Oddly comforting</td>\n",
       "      <td>221</td>\n",
       "      <td>s9br1j</td>\n",
       "      <td>https://www.reddit.com/r/wallstreetbets/commen...</td>\n",
       "      <td>63</td>\n",
       "      <td>1.642775e+09</td>\n",
       "      <td>I've been trading for about two decades and ov...</td>\n",
       "      <td>2022-01-21 06:18:47</td>\n",
       "    </tr>\n",
       "    <tr>\n",
       "      <th>179</th>\n",
       "      <td>Daily Discussion Thread for January 21, 2022</td>\n",
       "      <td>297</td>\n",
       "      <td>s9898y</td>\n",
       "      <td>https://www.reddit.com/r/wallstreetbets/commen...</td>\n",
       "      <td>17823</td>\n",
       "      <td>1.642763e+09</td>\n",
       "      <td>Your daily trading discussion thread. Please k...</td>\n",
       "      <td>2022-01-21 03:00:15</td>\n",
       "    </tr>\n",
       "    <tr>\n",
       "      <th>244</th>\n",
       "      <td>A stock market crash is exactly what need to b...</td>\n",
       "      <td>3900</td>\n",
       "      <td>s903yw</td>\n",
       "      <td>https://www.reddit.com/r/wallstreetbets/commen...</td>\n",
       "      <td>1292</td>\n",
       "      <td>1.642733e+09</td>\n",
       "      <td>This is how brilliant the system works. Please...</td>\n",
       "      <td>2022-01-20 18:50:09</td>\n",
       "    </tr>\n",
       "  </tbody>\n",
       "</table>\n",
       "</div>"
      ],
      "text/plain": [
       "                                                 title  score      id  \\\n",
       "47   MATCH will be the next stock to absolutely tan...     57  s9gqoc   \n",
       "153  The Fed is about to commit a disasterous polic...    113  s9c4u3   \n",
       "157                                   Oddly comforting    221  s9br1j   \n",
       "179       Daily Discussion Thread for January 21, 2022    297  s9898y   \n",
       "244  A stock market crash is exactly what need to b...   3900  s903yw   \n",
       "\n",
       "                                                   url  comms_num  \\\n",
       "47   https://www.reddit.com/r/wallstreetbets/commen...         65   \n",
       "153  https://www.reddit.com/r/wallstreetbets/commen...         68   \n",
       "157  https://www.reddit.com/r/wallstreetbets/commen...         63   \n",
       "179  https://www.reddit.com/r/wallstreetbets/commen...      17823   \n",
       "244  https://www.reddit.com/r/wallstreetbets/commen...       1292   \n",
       "\n",
       "          created                                               body  \\\n",
       "47   1.642788e+09  Netflix just tanked 25% on earnings due to no ...   \n",
       "153  1.642776e+09  Long post warning, but there is a lot on my mi...   \n",
       "157  1.642775e+09  I've been trading for about two decades and ov...   \n",
       "179  1.642763e+09  Your daily trading discussion thread. Please k...   \n",
       "244  1.642733e+09  This is how brilliant the system works. Please...   \n",
       "\n",
       "               timestamp  \n",
       "47   2022-01-21 10:00:44  \n",
       "153  2022-01-21 06:36:26  \n",
       "157  2022-01-21 06:18:47  \n",
       "179  2022-01-21 03:00:15  \n",
       "244  2022-01-20 18:50:09  "
      ]
     },
     "execution_count": 17,
     "metadata": {},
     "output_type": "execute_result"
    }
   ],
   "source": [
    "# outlier df\n",
    "outlier_df = df[df.score > 49]\n",
    "outlier_df.head()"
   ]
  },
  {
   "cell_type": "code",
   "execution_count": 16,
   "metadata": {},
   "outputs": [
    {
     "data": {
      "text/plain": [
       "38"
      ]
     },
     "execution_count": 16,
     "metadata": {},
     "output_type": "execute_result"
    }
   ],
   "source": [
    "# Check size of outlier df\n",
    "len(outlier_df)"
   ]
  },
  {
   "cell_type": "code",
   "execution_count": 30,
   "metadata": {},
   "outputs": [
    {
     "data": {
      "image/png": "[encoded data removed]",
      "text/plain": [
       "<Figure size 432x288 with 1 Axes>"
      ]
     },
     "metadata": {
      "needs_background": "light"
     },
     "output_type": "display_data"
    }
   ],
   "source": [
    "# Create a wordcloud for body\n",
    "from nltk.corpus import stopwords\n",
    "from wordcloud import WordCloud\n",
    "\n",
    "# Create stopword list:\n",
    "stopwords = set(stopwords.words('english'))\n",
    "new_stopwords = ['like','https','WWW','also','could','still','thing','say','see','said','well','want','would','think','get','width','format','preview','redd','auto','x200B','png','webp']\n",
    "stopwords.update(new_stopwords)\n",
    "\n",
    "# remove stop words from body\n",
    "text = \" \".join(review for review in outlier_df.body)\n",
    "\n",
    "# graph wordcloud\n",
    "wordcloud = WordCloud(stopwords=stopwords).generate(text)\n",
    "plt.imshow(wordcloud, interpolation='bilinear')\n",
    "plt.axis(\"off\")\n",
    "plt.savefig('wordcloud1.png')\n",
    "plt.show()"
   ]
  },
  {
   "cell_type": "code",
   "execution_count": 32,
   "metadata": {},
   "outputs": [
    {
     "data": {
      "text/plain": [
       "[('.', 469),\n",
       " ('the', 330),\n",
       " (',', 289),\n",
       " ('*', 221),\n",
       " ('to', 209),\n",
       " ('a', 206),\n",
       " ('&', 203),\n",
       " ('and', 192),\n",
       " ('i', 192),\n",
       " (':', 157)]"
      ]
     },
     "execution_count": 32,
     "metadata": {},
     "output_type": "execute_result"
    }
   ],
   "source": [
    "# Find most frequently occuring words\n",
    "all_words = nltk.tokenize.word_tokenize(text)\n",
    "all_words_dist = nltk.FreqDist(w.lower() for w in all_words)\n",
    "\n",
    "stopwords = nltk.corpus.stopwords.words('english')\n",
    "non_stopwords = nltk.FreqDist(w.lower() for w in all_words if w not in stopwords)\n",
    "\n",
    "most_common = all_words_dist.most_common(10)\n",
    "most_common"
   ]
  },
  {
   "cell_type": "code",
   "execution_count": null,
   "metadata": {},
   "outputs": [],
   "source": []
  }
 ],
 "metadata": {
  "kernelspec": {
   "display_name": "mlenv",
   "language": "python",
   "name": "mlenv"
  },
  "language_info": {
   "codemirror_mode": {
    "name": "ipython",
    "version": 3
   },
   "file_extension": ".py",
   "mimetype": "text/x-python",
   "name": "python",
   "nbconvert_exporter": "python",
   "pygments_lexer": "ipython3",
   "version": "3.7.9"
  }
 },
 "nbformat": 4,
 "nbformat_minor": 4
}
